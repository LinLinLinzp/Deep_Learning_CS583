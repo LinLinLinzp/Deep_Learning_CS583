{
 "cells": [
  {
   "cell_type": "markdown",
   "metadata": {},
   "source": [
    "# CS583 CourseProject-National Data Science Bowl"
   ]
  },
  {
   "cell_type": "markdown",
   "metadata": {},
   "source": [
    "### Name: Zhipeng Lin"
   ]
  },
  {
   "cell_type": "markdown",
   "metadata": {},
   "source": [
    "##### Competition Url: https://www.kaggle.com/c/datasciencebowl"
   ]
  },
  {
   "cell_type": "code",
   "execution_count": 0,
   "metadata": {
    "colab": {},
    "colab_type": "code",
    "id": "UkgSMiIFMvwE"
   },
   "outputs": [],
   "source": [
    "!unzip \\train.zip"
   ]
  },
  {
   "cell_type": "code",
   "execution_count": 0,
   "metadata": {
    "colab": {},
    "colab_type": "code",
    "id": "yYu1REjUNCa5"
   },
   "outputs": [],
   "source": [
    "!unzip \\test.zip"
   ]
  },
  {
   "cell_type": "code",
   "execution_count": 0,
   "metadata": {
    "colab": {},
    "colab_type": "code",
    "id": "JcaQXkoGM0H2"
   },
   "outputs": [],
   "source": [
    "import sklearn\n",
    "from skimage.io import imread\n",
    "from skimage.transform import resize\n",
    "import glob\n",
    "import os\n",
    "\n",
    "from matplotlib import pyplot as plt\n",
    "from matplotlib import colors\n",
    "from pylab import cm\n",
    "from skimage import segmentation\n",
    "from skimage.morphology import watershed\n",
    "from skimage import measure\n",
    "from skimage import morphology\n",
    "import numpy as np\n",
    "import pandas as pd\n",
    "from scipy import ndimage\n"
   ]
  },
  {
   "cell_type": "code",
   "execution_count": 0,
   "metadata": {
    "colab": {},
    "colab_type": "code",
    "id": "GrF4mjoaM2k6"
   },
   "outputs": [],
   "source": [
    "filepath = '/content/train'\n",
    "label_list = os.listdir(filepath)"
   ]
  },
  {
   "cell_type": "code",
   "execution_count": 0,
   "metadata": {
    "colab": {},
    "colab_type": "code",
    "id": "0XpoILj8T8wL"
   },
   "outputs": [],
   "source": [
    "a ='/content/label.txt'\n",
    "label_dic = {}\n",
    "with open(a) as fp:\n",
    "    txt = fp.read()\n",
    "txt = txt.split('\\n')\n",
    "\n",
    "label_dic = {}\n",
    "for i in enumerate(txt):\n",
    "  k, v = i\n",
    "  label_dic[v] = k"
   ]
  },
  {
   "cell_type": "code",
   "execution_count": 0,
   "metadata": {
    "colab": {
     "base_uri": "https://localhost:8080/",
     "height": 1000
    },
    "colab_type": "code",
    "id": "-ffe30fANQyW",
    "outputId": "1eb3130f-ade8-4fa8-c35d-ff7f494e1b7f"
   },
   "outputs": [
    {
     "data": {
      "text/plain": [
       "{'acantharia_protist': 2,\n",
       " 'acantharia_protist_big_center': 0,\n",
       " 'acantharia_protist_halo': 1,\n",
       " 'amphipods': 3,\n",
       " 'appendicularian_fritillaridae': 4,\n",
       " 'appendicularian_s_shape': 5,\n",
       " 'appendicularian_slight_curve': 6,\n",
       " 'appendicularian_straight': 7,\n",
       " 'artifacts': 9,\n",
       " 'artifacts_edge': 8,\n",
       " 'chaetognath_non_sagitta': 10,\n",
       " 'chaetognath_other': 11,\n",
       " 'chaetognath_sagitta': 12,\n",
       " 'chordate_type1': 13,\n",
       " 'copepod_calanoid': 22,\n",
       " 'copepod_calanoid_eggs': 14,\n",
       " 'copepod_calanoid_eucalanus': 15,\n",
       " 'copepod_calanoid_flatheads': 16,\n",
       " 'copepod_calanoid_frillyAntennae': 17,\n",
       " 'copepod_calanoid_large': 19,\n",
       " 'copepod_calanoid_large_side_antennatucked': 18,\n",
       " 'copepod_calanoid_octomoms': 20,\n",
       " 'copepod_calanoid_small_longantennae': 21,\n",
       " 'copepod_cyclopoid_copilia': 23,\n",
       " 'copepod_cyclopoid_oithona': 25,\n",
       " 'copepod_cyclopoid_oithona_eggs': 24,\n",
       " 'copepod_other': 26,\n",
       " 'crustacean_other': 27,\n",
       " 'ctenophore_cestid': 28,\n",
       " 'ctenophore_cydippid_no_tentacles': 29,\n",
       " 'ctenophore_cydippid_tentacles': 30,\n",
       " 'ctenophore_lobate': 31,\n",
       " 'decapods': 32,\n",
       " 'detritus_blob': 33,\n",
       " 'detritus_filamentous': 34,\n",
       " 'detritus_other': 35,\n",
       " 'diatom_chain_string': 36,\n",
       " 'diatom_chain_tube': 37,\n",
       " 'echinoderm_larva_pluteus_brittlestar': 38,\n",
       " 'echinoderm_larva_pluteus_early': 39,\n",
       " 'echinoderm_larva_pluteus_typeC': 40,\n",
       " 'echinoderm_larva_pluteus_urchin': 41,\n",
       " 'echinoderm_larva_seastar_bipinnaria': 42,\n",
       " 'echinoderm_larva_seastar_brachiolaria': 43,\n",
       " 'echinoderm_seacucumber_auricularia_larva': 44,\n",
       " 'echinopluteus': 45,\n",
       " 'ephyra': 46,\n",
       " 'euphausiids': 48,\n",
       " 'euphausiids_young': 47,\n",
       " 'fecal_pellet': 49,\n",
       " 'fish_larvae_deep_body': 50,\n",
       " 'fish_larvae_leptocephali': 51,\n",
       " 'fish_larvae_medium_body': 52,\n",
       " 'fish_larvae_myctophids': 53,\n",
       " 'fish_larvae_thin_body': 54,\n",
       " 'fish_larvae_very_thin_body': 55,\n",
       " 'heteropod': 56,\n",
       " 'hydromedusae_aglaura': 57,\n",
       " 'hydromedusae_bell_and_tentacles': 58,\n",
       " 'hydromedusae_h15': 59,\n",
       " 'hydromedusae_haliscera': 61,\n",
       " 'hydromedusae_haliscera_small_sideview': 60,\n",
       " 'hydromedusae_liriope': 62,\n",
       " 'hydromedusae_narco_dark': 63,\n",
       " 'hydromedusae_narco_young': 64,\n",
       " 'hydromedusae_narcomedusae': 65,\n",
       " 'hydromedusae_other': 66,\n",
       " 'hydromedusae_partial_dark': 67,\n",
       " 'hydromedusae_shapeA': 69,\n",
       " 'hydromedusae_shapeA_sideview_small': 68,\n",
       " 'hydromedusae_shapeB': 70,\n",
       " 'hydromedusae_sideview_big': 71,\n",
       " 'hydromedusae_solmaris': 72,\n",
       " 'hydromedusae_solmundella': 73,\n",
       " 'hydromedusae_typeD': 75,\n",
       " 'hydromedusae_typeD_bell_and_tentacles': 74,\n",
       " 'hydromedusae_typeE': 76,\n",
       " 'hydromedusae_typeF': 77,\n",
       " 'invertebrate_larvae_other_A': 78,\n",
       " 'invertebrate_larvae_other_B': 79,\n",
       " 'jellies_tentacles': 80,\n",
       " 'polychaete': 81,\n",
       " 'protist_dark_center': 82,\n",
       " 'protist_fuzzy_olive': 83,\n",
       " 'protist_noctiluca': 84,\n",
       " 'protist_other': 85,\n",
       " 'protist_star': 86,\n",
       " 'pteropod_butterfly': 87,\n",
       " 'pteropod_theco_dev_seq': 88,\n",
       " 'pteropod_triangle': 89,\n",
       " 'radiolarian_chain': 90,\n",
       " 'radiolarian_colony': 91,\n",
       " 'shrimp-like_other': 95,\n",
       " 'shrimp_caridean': 92,\n",
       " 'shrimp_sergestidae': 93,\n",
       " 'shrimp_zoea': 94,\n",
       " 'siphonophore_calycophoran_abylidae': 96,\n",
       " 'siphonophore_calycophoran_rocketship_adult': 97,\n",
       " 'siphonophore_calycophoran_rocketship_young': 98,\n",
       " 'siphonophore_calycophoran_sphaeronectes': 101,\n",
       " 'siphonophore_calycophoran_sphaeronectes_stem': 99,\n",
       " 'siphonophore_calycophoran_sphaeronectes_young': 100,\n",
       " 'siphonophore_other_parts': 102,\n",
       " 'siphonophore_partial': 103,\n",
       " 'siphonophore_physonect': 105,\n",
       " 'siphonophore_physonect_young': 104,\n",
       " 'stomatopod': 106,\n",
       " 'tornaria_acorn_worm_larvae': 107,\n",
       " 'trichodesmium_bowtie': 108,\n",
       " 'trichodesmium_multiple': 109,\n",
       " 'trichodesmium_puff': 110,\n",
       " 'trichodesmium_tuft': 111,\n",
       " 'trochophore_larvae': 112,\n",
       " 'tunicate_doliolid': 114,\n",
       " 'tunicate_doliolid_nurse': 113,\n",
       " 'tunicate_partial': 115,\n",
       " 'tunicate_salp': 117,\n",
       " 'tunicate_salp_chains': 116,\n",
       " 'unknown_blobs_and_smudges': 118,\n",
       " 'unknown_sticks': 119,\n",
       " 'unknown_unclassified': 120}"
      ]
     },
     "execution_count": 4,
     "metadata": {
      "tags": []
     },
     "output_type": "execute_result"
    }
   ],
   "source": [
    "label_dic"
   ]
  },
  {
   "cell_type": "code",
   "execution_count": 0,
   "metadata": {
    "colab": {
     "base_uri": "https://localhost:8080/",
     "height": 1000
    },
    "colab_type": "code",
    "id": "xq06XpYBLT9O",
    "outputId": "69d77728-f3ba-40b6-9ea2-de29c57d853d"
   },
   "outputs": [
    {
     "name": "stdout",
     "output_type": "stream",
     "text": [
      "euphausiids_young : 47  count: 266  num: 266\n",
      "copepod_calanoid_eucalanus : 15  count: 288  num: 554\n",
      "siphonophore_calycophoran_sphaeronectes_stem : 99  count: 285  num: 839\n",
      "copepod_other : 26  count: 288  num: 1127\n",
      "tunicate_doliolid : 114  count: 351  num: 1478\n",
      "radiolarian_chain : 90  count: 287  num: 1765\n",
      "hydromedusae_other : 66  count: 300  num: 2065\n",
      "echinoderm_larva_pluteus_early : 39  count: 276  num: 2341\n",
      "invertebrate_larvae_other_B : 79  count: 288  num: 2629\n",
      "siphonophore_other_parts : 102  count: 290  num: 2919\n",
      "acantharia_protist_big_center : 0  count: 299  num: 3218\n",
      "hydromedusae_typeF : 77  count: 244  num: 3462\n",
      "protist_noctiluca : 84  count: 351  num: 3813\n",
      "siphonophore_calycophoran_sphaeronectes : 101  count: 179  num: 3992\n",
      "hydromedusae_typeD_bell_and_tentacles : 74  count: 280  num: 4272\n",
      "copepod_calanoid_small_longantennae : 21  count: 261  num: 4533\n",
      "ctenophore_cydippid_no_tentacles : 29  count: 294  num: 4827\n",
      "tunicate_salp_chains : 116  count: 292  num: 5119\n",
      "trichodesmium_multiple : 109  count: 270  num: 5389\n",
      "fish_larvae_deep_body : 50  count: 300  num: 5689\n",
      "ctenophore_lobate : 31  count: 266  num: 5955\n",
      "artifacts : 9  count: 351  num: 6306\n",
      "polychaete : 81  count: 262  num: 6568\n",
      "siphonophore_physonect : 105  count: 256  num: 6824\n",
      "fish_larvae_myctophids : 53  count: 228  num: 7052\n",
      "hydromedusae_sideview_big : 71  count: 228  num: 7280\n",
      "echinoderm_larva_pluteus_brittlestar : 38  count: 288  num: 7568\n",
      "siphonophore_calycophoran_abylidae : 96  count: 212  num: 7780\n",
      "crustacean_other : 27  count: 201  num: 7981\n",
      "copepod_calanoid_large : 19  count: 286  num: 8267\n",
      "copepod_calanoid_eggs : 14  count: 173  num: 8440\n",
      "copepod_cyclopoid_oithona_eggs : 24  count: 351  num: 8791\n",
      "acantharia_protist : 2  count: 351  num: 9142\n",
      "diatom_chain_string : 36  count: 351  num: 9493\n",
      "hydromedusae_haliscera_small_sideview : 60  count: 297  num: 9790\n",
      "shrimp-like_other : 95  count: 260  num: 10050\n",
      "hydromedusae_partial_dark : 67  count: 190  num: 10240\n",
      "unknown_sticks : 119  count: 175  num: 10415\n",
      "echinopluteus : 45  count: 297  num: 10712\n",
      "echinoderm_larva_pluteus_urchin : 41  count: 264  num: 10976\n",
      "copepod_calanoid_octomoms : 20  count: 294  num: 11270\n",
      "unknown_blobs_and_smudges : 118  count: 317  num: 11587\n",
      "amphipods : 3  count: 294  num: 11881\n",
      "heteropod : 56  count: 300  num: 12181\n",
      "siphonophore_partial : 103  count: 300  num: 12481\n",
      "detritus_other : 35  count: 351  num: 12832\n",
      "hydromedusae_aglaura : 57  count: 254  num: 13086\n",
      "protist_other : 85  count: 351  num: 13437\n",
      "detritus_filamentous : 34  count: 351  num: 13788\n",
      "hydromedusae_typeE : 76  count: 294  num: 14082\n",
      "hydromedusae_liriope : 62  count: 285  num: 14367\n",
      "hydromedusae_typeD : 75  count: 258  num: 14625\n",
      "hydromedusae_haliscera : 61  count: 229  num: 14854\n",
      "chaetognath_other : 11  count: 351  num: 15205\n",
      "ephyra : 46  count: 294  num: 15499\n",
      "siphonophore_physonect_young : 104  count: 294  num: 15793\n",
      "hydromedusae_narco_dark : 63  count: 299  num: 16092\n",
      "acantharia_protist_halo : 1  count: 284  num: 16376\n",
      "fish_larvae_very_thin_body : 55  count: 288  num: 16664\n",
      "shrimp_zoea : 94  count: 174  num: 16838\n",
      "invertebrate_larvae_other_A : 78  count: 294  num: 17132\n",
      "siphonophore_calycophoran_rocketship_young : 98  count: 351  num: 17483\n",
      "diatom_chain_tube : 37  count: 351  num: 17834\n",
      "echinoderm_larva_pluteus_typeC : 40  count: 240  num: 18074\n",
      "fish_larvae_thin_body : 54  count: 256  num: 18330\n",
      "tunicate_salp : 117  count: 236  num: 18566\n",
      "jellies_tentacles : 80  count: 282  num: 18848\n",
      "stomatopod : 106  count: 288  num: 19136\n",
      "siphonophore_calycophoran_rocketship_adult : 97  count: 270  num: 19406\n",
      "copepod_calanoid_frillyAntennae : 17  count: 252  num: 19658\n",
      "tornaria_acorn_worm_larvae : 107  count: 266  num: 19924\n",
      "shrimp_sergestidae : 93  count: 153  num: 20077\n",
      "pteropod_triangle : 89  count: 260  num: 20337\n",
      "hydromedusae_narco_young : 64  count: 336  num: 20673\n",
      "pteropod_theco_dev_seq : 88  count: 299  num: 20972\n",
      "trochophore_larvae : 112  count: 290  num: 21262\n",
      "detritus_blob : 33  count: 351  num: 21613\n",
      "copepod_cyclopoid_oithona : 25  count: 351  num: 21964\n",
      "copepod_calanoid_large_side_antennatucked : 18  count: 212  num: 22176\n",
      "appendicularian_fritillaridae : 4  count: 288  num: 22464\n",
      "echinoderm_larva_seastar_bipinnaria : 42  count: 351  num: 22815\n",
      "hydromedusae_h15 : 59  count: 280  num: 23095\n",
      "hydromedusae_solmundella : 73  count: 246  num: 23341\n",
      "ctenophore_cestid : 28  count: 226  num: 23567\n",
      "artifacts_edge : 8  count: 170  num: 23737\n",
      "copepod_calanoid : 22  count: 351  num: 24088\n",
      "hydromedusae_shapeA : 69  count: 351  num: 24439\n",
      "hydromedusae_solmaris : 72  count: 351  num: 24790\n",
      "fish_larvae_medium_body : 52  count: 255  num: 25045\n",
      "appendicularian_s_shape : 5  count: 351  num: 25396\n",
      "shrimp_caridean : 92  count: 294  num: 25690\n",
      "tunicate_partial : 115  count: 351  num: 26041\n",
      "protist_star : 86  count: 226  num: 26267\n",
      "decapods : 32  count: 275  num: 26542\n",
      "appendicularian_slight_curve : 6  count: 351  num: 26893\n",
      "chaetognath_non_sagitta : 10  count: 351  num: 27244\n",
      "euphausiids : 48  count: 272  num: 27516\n",
      "chordate_type1 : 13  count: 231  num: 27747\n",
      "copepod_cyclopoid_copilia : 23  count: 300  num: 28047\n",
      "siphonophore_calycophoran_sphaeronectes_young : 100  count: 247  num: 28294\n",
      "appendicularian_straight : 7  count: 242  num: 28536\n",
      "fish_larvae_leptocephali : 51  count: 279  num: 28815\n",
      "trichodesmium_bowtie : 108  count: 351  num: 29166\n",
      "echinoderm_larva_seastar_brachiolaria : 43  count: 351  num: 29517\n",
      "copepod_calanoid_flatheads : 16  count: 178  num: 29695\n",
      "hydromedusae_narcomedusae : 65  count: 264  num: 29959\n",
      "hydromedusae_shapeA_sideview_small : 68  count: 274  num: 30233\n",
      "trichodesmium_tuft : 111  count: 351  num: 30584\n",
      "trichodesmium_puff : 110  count: 351  num: 30935\n",
      "hydromedusae_shapeB : 70  count: 300  num: 31235\n",
      "hydromedusae_bell_and_tentacles : 58  count: 300  num: 31535\n",
      "protist_dark_center : 82  count: 216  num: 31751\n",
      "ctenophore_cydippid_tentacles : 30  count: 265  num: 32016\n",
      "chaetognath_sagitta : 12  count: 351  num: 32367\n",
      "fecal_pellet : 49  count: 351  num: 32718\n",
      "unknown_unclassified : 120  count: 351  num: 33069\n",
      "tunicate_doliolid_nurse : 113  count: 351  num: 33420\n",
      "radiolarian_colony : 91  count: 158  num: 33578\n",
      "pteropod_butterfly : 87  count: 216  num: 33794\n",
      "echinoderm_seacucumber_auricularia_larva : 44  count: 288  num: 34082\n",
      "protist_fuzzy_olive : 83  count: 351  num: 34433\n"
     ]
    }
   ],
   "source": [
    "x_row=[]\n",
    "y_row=[]\n",
    "# load row data balanced\n",
    "num_img = 0\n",
    "for label in label_list:\n",
    "  path = os.path.join(filepath,label)\n",
    "  filenamedir = os.listdir(path)\n",
    "  index = label_dic[label]\n",
    "\n",
    "  num_exp = len(filenamedir)\n",
    "  num_exp = 300 / num_exp\n",
    "  num = int(num_exp)\n",
    "  if num ==0: num+=1\n",
    "\n",
    "  count = 0\n",
    "\n",
    "  for i in range(num):\n",
    "    for imagename in filenamedir:\n",
    "      imagepath = os.path.join(path,imagename)\n",
    "      im = imread(imagepath)\n",
    "      img = 255 - im\n",
    "      x_row.append(img)\n",
    "      y_row.append(index)\n",
    "      num_img += 1 \n",
    "      count+=1\n",
    "      if count > 350:\n",
    "        break\n",
    "\n",
    "  print(label,':',index ,' count:',count,' num:',num_img)\n",
    "  # print(label,':',index ,' count:',count,' num:',num_img ,' per',num_img / 30336)"
   ]
  },
  {
   "cell_type": "code",
   "execution_count": 0,
   "metadata": {
    "colab": {},
    "colab_type": "code",
    "id": "nGbAWA2INVSU"
   },
   "outputs": [],
   "source": [
    "x_data = np.asarray(x_row.copy())"
   ]
  },
  {
   "cell_type": "code",
   "execution_count": 0,
   "metadata": {
    "colab": {},
    "colab_type": "code",
    "id": "rXrp3weUwkgf"
   },
   "outputs": [],
   "source": [
    "def imgAugment(image):\n",
    "  imthr = image.copy()\n",
    "  imthr = np.where(image > np.mean(image),0.,1.0)\n",
    "  imdilated = morphology.dilation(imthr, np.ones((3,3)))\n",
    "  # labels = measure.label(imdilated)\n",
    "  # img = imthr*labels\n",
    "  return img"
   ]
  },
  {
   "cell_type": "code",
   "execution_count": 0,
   "metadata": {
    "colab": {},
    "colab_type": "code",
    "id": "SjGEn7eVyfZE"
   },
   "outputs": [],
   "source": [
    "x_data_aug = [imgAugment(i) for i in x_data]"
   ]
  },
  {
   "cell_type": "code",
   "execution_count": 0,
   "metadata": {
    "colab": {},
    "colab_type": "code",
    "id": "55cvjH8IMoiZ"
   },
   "outputs": [],
   "source": [
    "# random rotate\n",
    "from keras.preprocessing.image import ImageDataGenerator\n",
    "\n",
    "datagen = ImageDataGenerator(rotation_range=180)\n",
    "datagen.fit(x_resize)\n",
    "# show_augment_image(x_resize, y_onehot,datagen)"
   ]
  },
  {
   "cell_type": "code",
   "execution_count": 0,
   "metadata": {
    "colab": {},
    "colab_type": "code",
    "id": "q6MKRW7gNbc4"
   },
   "outputs": [],
   "source": [
    "# resize img\n",
    "maxlength = 64\n",
    "features = maxlength **2\n",
    "x_resize = []\n",
    "for img in x_data_aug:\n",
    "  imgresize = resize(img,(maxlength,maxlength))\n",
    "  x_resize.append(imgresize)\n"
   ]
  },
  {
   "cell_type": "code",
   "execution_count": 0,
   "metadata": {
    "colab": {
     "base_uri": "https://localhost:8080/",
     "height": 286
    },
    "colab_type": "code",
    "id": "hs7m-kyn1got",
    "outputId": "62291805-8b8f-44ca-959b-159c82b61d0a"
   },
   "outputs": [
    {
     "data": {
      "text/plain": [
       "<matplotlib.image.AxesImage at 0x7f3629480f98>"
      ]
     },
     "execution_count": 11,
     "metadata": {
      "tags": []
     },
     "output_type": "execute_result"
    },
    {
     "data": {
      "image/png": "[encoded data removed]",
      "text/plain": [
       "<Figure size 432x288 with 1 Axes>"
      ]
     },
     "metadata": {
      "tags": []
     },
     "output_type": "display_data"
    }
   ],
   "source": [
    "plt.imshow(x_resize[984],cmap=cm.gray)"
   ]
  },
  {
   "cell_type": "code",
   "execution_count": 0,
   "metadata": {
    "colab": {
     "base_uri": "https://localhost:8080/",
     "height": 83
    },
    "colab_type": "code",
    "id": "rtp_9O7INdQu",
    "outputId": "2f1f6eea-816a-4943-f9fb-e990edc6f6b0"
   },
   "outputs": [
    {
     "name": "stderr",
     "output_type": "stream",
     "text": [
      "Using TensorFlow backend.\n"
     ]
    },
    {
     "data": {
      "text/html": [
       "<p style=\"color: red;\">\n",
       "The default version of TensorFlow in Colab will soon switch to TensorFlow 2.x.<br>\n",
       "We recommend you <a href=\"https://www.tensorflow.org/guide/migrate\" target=\"_blank\">upgrade</a> now \n",
       "or ensure your notebook will continue to use TensorFlow 1.x via the <code>%tensorflow_version 1.x</code> magic:\n",
       "<a href=\"https://colab.research.google.com/notebooks/tensorflow_version.ipynb\" target=\"_blank\">more info</a>.</p>\n"
      ],
      "text/plain": [
       "<IPython.core.display.HTML object>"
      ]
     },
     "metadata": {
      "tags": []
     },
     "output_type": "display_data"
    }
   ],
   "source": [
    "# one hot\n",
    "from keras.utils import to_categorical\n",
    "y_onehot = to_categorical(y_row)"
   ]
  },
  {
   "cell_type": "code",
   "execution_count": 0,
   "metadata": {
    "colab": {},
    "colab_type": "code",
    "id": "zGHis5F2NiEY"
   },
   "outputs": [],
   "source": [
    "x_resize = np.asarray(x_resize)"
   ]
  },
  {
   "cell_type": "code",
   "execution_count": 0,
   "metadata": {
    "colab": {
     "base_uri": "https://localhost:8080/",
     "height": 35
    },
    "colab_type": "code",
    "id": "xfgTA5eiNkvU",
    "outputId": "0e947481-0f91-4956-8926-131643bc2017"
   },
   "outputs": [
    {
     "data": {
      "text/plain": [
       "((30336, 121), (30336, 64, 64))"
      ]
     },
     "execution_count": 14,
     "metadata": {
      "tags": []
     },
     "output_type": "execute_result"
    }
   ],
   "source": [
    "y_onehot.shape,x_resize.shape"
   ]
  },
  {
   "cell_type": "code",
   "execution_count": 0,
   "metadata": {
    "colab": {
     "base_uri": "https://localhost:8080/",
     "height": 35
    },
    "colab_type": "code",
    "id": "foDNfYtNNoTs",
    "outputId": "db5b9e9b-791c-4f1e-974b-cf909b68495b"
   },
   "outputs": [
    {
     "data": {
      "text/plain": [
       "(30336, 64, 64, 1)"
      ]
     },
     "execution_count": 15,
     "metadata": {
      "tags": []
     },
     "output_type": "execute_result"
    }
   ],
   "source": [
    "x_resize_2d = x_resize.reshape(x_resize.shape[0], maxlength, maxlength, 1)\n",
    "x_resize_2d.shape"
   ]
  },
  {
   "cell_type": "markdown",
   "metadata": {
    "colab_type": "text",
    "id": "5itI-BkIpI1H"
   },
   "source": [
    "### multi logloss"
   ]
  },
  {
   "cell_type": "code",
   "execution_count": 0,
   "metadata": {
    "colab": {},
    "colab_type": "code",
    "id": "lAzIIGJDRVWC"
   },
   "outputs": [],
   "source": [
    "def logloss(y_pred,y_true):\n",
    "  n = y_true.shape[0]\n",
    "  log = np.log(y_pred + 1e-15)\n",
    "  multi = y_true * log\n",
    "  logloss = - (np.sum(multi)) / n\n",
    "  # print(logloss)\n",
    "  return logloss"
   ]
  },
  {
   "cell_type": "markdown",
   "metadata": {
    "colab_type": "text",
    "id": "iinN2koYoLFj"
   },
   "source": [
    "### Split train and valid set"
   ]
  },
  {
   "cell_type": "code",
   "execution_count": 0,
   "metadata": {
    "colab": {
     "base_uri": "https://localhost:8080/",
     "height": 35
    },
    "colab_type": "code",
    "id": "EqYJ-Zp-JUoP",
    "outputId": "f1b1fbf6-76cb-418a-e2c3-a6c412ab3a2d"
   },
   "outputs": [
    {
     "data": {
      "text/plain": [
       "((24268, 64, 64, 1), (6068, 64, 64, 1))"
      ]
     },
     "execution_count": 17,
     "metadata": {
      "tags": []
     },
     "output_type": "execute_result"
    }
   ],
   "source": [
    "from sklearn.model_selection import train_test_split\n",
    "x_train, x_valid, y_train, y_valid = train_test_split(x_resize_2d, y_onehot, test_size = 0.2, random_state = 1)\n",
    "x_train.shape, x_valid.shape"
   ]
  },
  {
   "cell_type": "markdown",
   "metadata": {
    "colab_type": "text",
    "id": "pd7SEHvI7Slm"
   },
   "source": [
    "### basic 5 laryer CNN net"
   ]
  },
  {
   "cell_type": "code",
   "execution_count": 0,
   "metadata": {
    "colab": {},
    "colab_type": "code",
    "id": "LB-WC8MyNrdd"
   },
   "outputs": [],
   "source": [
    "from keras.layers import Conv2D, MaxPooling2D, Flatten, Dense, Dropout, Input\n",
    "from keras.models import Sequential\n",
    "from keras import regularizers\n"
   ]
  },
  {
   "cell_type": "code",
   "execution_count": 0,
   "metadata": {
    "colab": {
     "base_uri": "https://localhost:8080/",
     "height": 819
    },
    "colab_type": "code",
    "id": "YnUi5VI2N0WB",
    "outputId": "bf50c158-2408-417f-ac48-4655ccbda96d"
   },
   "outputs": [
    {
     "name": "stdout",
     "output_type": "stream",
     "text": [
      "WARNING:tensorflow:From /usr/local/lib/python3.6/dist-packages/keras/backend/tensorflow_backend.py:66: The name tf.get_default_graph is deprecated. Please use tf.compat.v1.get_default_graph instead.\n",
      "\n",
      "WARNING:tensorflow:From /usr/local/lib/python3.6/dist-packages/keras/backend/tensorflow_backend.py:541: The name tf.placeholder is deprecated. Please use tf.compat.v1.placeholder instead.\n",
      "\n",
      "WARNING:tensorflow:From /usr/local/lib/python3.6/dist-packages/keras/backend/tensorflow_backend.py:4432: The name tf.random_uniform is deprecated. Please use tf.random.uniform instead.\n",
      "\n",
      "WARNING:tensorflow:From /usr/local/lib/python3.6/dist-packages/keras/backend/tensorflow_backend.py:4267: The name tf.nn.max_pool is deprecated. Please use tf.nn.max_pool2d instead.\n",
      "\n",
      "WARNING:tensorflow:From /usr/local/lib/python3.6/dist-packages/keras/backend/tensorflow_backend.py:148: The name tf.placeholder_with_default is deprecated. Please use tf.compat.v1.placeholder_with_default instead.\n",
      "\n",
      "WARNING:tensorflow:From /usr/local/lib/python3.6/dist-packages/keras/backend/tensorflow_backend.py:3733: calling dropout (from tensorflow.python.ops.nn_ops) with keep_prob is deprecated and will be removed in a future version.\n",
      "Instructions for updating:\n",
      "Please use `rate` instead of `keep_prob`. Rate should be set to `rate = 1 - keep_prob`.\n",
      "Model: \"sequential_1\"\n",
      "_________________________________________________________________\n",
      "Layer (type)                 Output Shape              Param #   \n",
      "=================================================================\n",
      "conv2d_1 (Conv2D)            (None, 32, 32, 32)        832       \n",
      "_________________________________________________________________\n",
      "max_pooling2d_1 (MaxPooling2 (None, 16, 16, 32)        0         \n",
      "_________________________________________________________________\n",
      "conv2d_2 (Conv2D)            (None, 16, 16, 128)       36992     \n",
      "_________________________________________________________________\n",
      "conv2d_3 (Conv2D)            (None, 16, 16, 256)       295168    \n",
      "_________________________________________________________________\n",
      "max_pooling2d_2 (MaxPooling2 (None, 8, 8, 256)         0         \n",
      "_________________________________________________________________\n",
      "flatten_1 (Flatten)          (None, 16384)             0         \n",
      "_________________________________________________________________\n",
      "dense_1 (Dense)              (None, 512)               8389120   \n",
      "_________________________________________________________________\n",
      "dropout_1 (Dropout)          (None, 512)               0         \n",
      "_________________________________________________________________\n",
      "dense_2 (Dense)              (None, 512)               262656    \n",
      "_________________________________________________________________\n",
      "dropout_2 (Dropout)          (None, 512)               0         \n",
      "_________________________________________________________________\n",
      "dense_3 (Dense)              (None, 121)               62073     \n",
      "=================================================================\n",
      "Total params: 9,046,841\n",
      "Trainable params: 9,046,841\n",
      "Non-trainable params: 0\n",
      "_________________________________________________________________\n"
     ]
    }
   ],
   "source": [
    "model = Sequential()\n",
    "model.add(Conv2D(32, kernel_size=(5, 5), strides=(2,2), activation='relu', padding='same', input_shape=(64, 64, 1)))\n",
    "model.add(MaxPooling2D((2, 2)))\n",
    "model.add(Conv2D(128, kernel_size=(3, 3), activation='relu', padding='same',kernel_regularizer=regularizers.l2(0.01)))\n",
    "model.add(Conv2D(256, kernel_size=(3, 3), activation='relu', padding='same',kernel_regularizer=regularizers.l2(0.01)))\n",
    "model.add(MaxPooling2D((2, 2)))\n",
    "model.add(Flatten())\n",
    "model.add(Dense(512, activation='relu',kernel_regularizer=regularizers.l2(0.001)))\n",
    "model.add(Dropout(0.5))\n",
    "model.add(Dense(512, activation='relu',kernel_regularizer=regularizers.l2(0.001)))\n",
    "model.add(Dropout(0.4))\n",
    "model.add(Dense(121,activation='softmax'))\n",
    "\n",
    "model.summary()"
   ]
  },
  {
   "cell_type": "code",
   "execution_count": 0,
   "metadata": {
    "colab": {
     "base_uri": "https://localhost:8080/",
     "height": 110
    },
    "colab_type": "code",
    "id": "_AuLWzPON3sM",
    "outputId": "e34d1c46-297f-4eb1-e4a4-d2403c63afcd"
   },
   "outputs": [
    {
     "name": "stdout",
     "output_type": "stream",
     "text": [
      "WARNING:tensorflow:From /usr/local/lib/python3.6/dist-packages/keras/optimizers.py:793: The name tf.train.Optimizer is deprecated. Please use tf.compat.v1.train.Optimizer instead.\n",
      "\n",
      "WARNING:tensorflow:From /usr/local/lib/python3.6/dist-packages/keras/backend/tensorflow_backend.py:3576: The name tf.log is deprecated. Please use tf.math.log instead.\n",
      "\n"
     ]
    }
   ],
   "source": [
    "from keras import optimizers\n",
    "\n",
    "model.compile(loss='categorical_crossentropy',optimizer=optimizers.RMSprop(lr=1E-4),metrics=['acc','top_k_categorical_accuracy'])"
   ]
  },
  {
   "cell_type": "code",
   "execution_count": 0,
   "metadata": {
    "colab": {
     "base_uri": "https://localhost:8080/",
     "height": 1000
    },
    "colab_type": "code",
    "id": "qCxFLWmWOBBs",
    "outputId": "985d0914-7871-47b9-88cf-5ecdaf067665"
   },
   "outputs": [
    {
     "name": "stdout",
     "output_type": "stream",
     "text": [
      "WARNING:tensorflow:From /usr/local/lib/python3.6/dist-packages/tensorflow_core/python/ops/math_grad.py:1424: where (from tensorflow.python.ops.array_ops) is deprecated and will be removed in a future version.\n",
      "Instructions for updating:\n",
      "Use tf.where in 2.0, which has the same broadcast rule as np.where\n",
      "WARNING:tensorflow:From /usr/local/lib/python3.6/dist-packages/keras/backend/tensorflow_backend.py:1033: The name tf.assign_add is deprecated. Please use tf.compat.v1.assign_add instead.\n",
      "\n",
      "WARNING:tensorflow:From /usr/local/lib/python3.6/dist-packages/keras/backend/tensorflow_backend.py:1020: The name tf.assign is deprecated. Please use tf.compat.v1.assign instead.\n",
      "\n",
      "WARNING:tensorflow:From /usr/local/lib/python3.6/dist-packages/keras/backend/tensorflow_backend.py:3005: The name tf.Session is deprecated. Please use tf.compat.v1.Session instead.\n",
      "\n",
      "Train on 27546 samples, validate on 6887 samples\n",
      "Epoch 1/20\n",
      "WARNING:tensorflow:From /usr/local/lib/python3.6/dist-packages/keras/backend/tensorflow_backend.py:190: The name tf.get_default_session is deprecated. Please use tf.compat.v1.get_default_session instead.\n",
      "\n",
      "WARNING:tensorflow:From /usr/local/lib/python3.6/dist-packages/keras/backend/tensorflow_backend.py:197: The name tf.ConfigProto is deprecated. Please use tf.compat.v1.ConfigProto instead.\n",
      "\n",
      "WARNING:tensorflow:From /usr/local/lib/python3.6/dist-packages/keras/backend/tensorflow_backend.py:207: The name tf.global_variables is deprecated. Please use tf.compat.v1.global_variables instead.\n",
      "\n",
      "WARNING:tensorflow:From /usr/local/lib/python3.6/dist-packages/keras/backend/tensorflow_backend.py:216: The name tf.is_variable_initialized is deprecated. Please use tf.compat.v1.is_variable_initialized instead.\n",
      "\n",
      "WARNING:tensorflow:From /usr/local/lib/python3.6/dist-packages/keras/backend/tensorflow_backend.py:223: The name tf.variables_initializer is deprecated. Please use tf.compat.v1.variables_initializer instead.\n",
      "\n",
      "27546/27546 [==============================] - 14s 500us/step - loss: 6.4164 - acc: 0.0095 - top_k_categorical_accuracy: 0.0465 - val_loss: 5.3613 - val_acc: 0.0091 - val_top_k_categorical_accuracy: 0.0479\n",
      "Epoch 2/20\n",
      "27546/27546 [==============================] - 11s 397us/step - loss: 5.0585 - acc: 0.0098 - top_k_categorical_accuracy: 0.0486 - val_loss: 4.8919 - val_acc: 0.0093 - val_top_k_categorical_accuracy: 0.0469\n",
      "Epoch 3/20\n",
      "27546/27546 [==============================] - 11s 409us/step - loss: 4.8462 - acc: 0.0102 - top_k_categorical_accuracy: 0.0494 - val_loss: 4.8214 - val_acc: 0.0090 - val_top_k_categorical_accuracy: 0.0456\n",
      "Epoch 4/20\n",
      "27546/27546 [==============================] - 11s 404us/step - loss: 4.8125 - acc: 0.0089 - top_k_categorical_accuracy: 0.0500 - val_loss: 4.8088 - val_acc: 0.0093 - val_top_k_categorical_accuracy: 0.0439\n",
      "Epoch 5/20\n",
      "27546/27546 [==============================] - 11s 404us/step - loss: 4.8052 - acc: 0.0096 - top_k_categorical_accuracy: 0.0489 - val_loss: 4.8043 - val_acc: 0.0080 - val_top_k_categorical_accuracy: 0.0436\n",
      "Epoch 6/20\n",
      "27546/27546 [==============================] - 11s 405us/step - loss: 4.7997 - acc: 0.0112 - top_k_categorical_accuracy: 0.0522 - val_loss: 4.7996 - val_acc: 0.0091 - val_top_k_categorical_accuracy: 0.0444\n",
      "Epoch 7/20\n",
      "27546/27546 [==============================] - 11s 401us/step - loss: 4.7962 - acc: 0.0099 - top_k_categorical_accuracy: 0.0510 - val_loss: 4.7964 - val_acc: 0.0089 - val_top_k_categorical_accuracy: 0.0444\n",
      "Epoch 8/20\n",
      "27546/27546 [==============================] - 11s 406us/step - loss: 4.7930 - acc: 0.0103 - top_k_categorical_accuracy: 0.0513 - val_loss: 4.7937 - val_acc: 0.0080 - val_top_k_categorical_accuracy: 0.0436\n",
      "Epoch 9/20\n",
      "27546/27546 [==============================] - 11s 416us/step - loss: 4.7904 - acc: 0.0108 - top_k_categorical_accuracy: 0.0521 - val_loss: 4.7917 - val_acc: 0.0080 - val_top_k_categorical_accuracy: 0.0444\n",
      "Epoch 10/20\n",
      "27546/27546 [==============================] - 11s 403us/step - loss: 4.7887 - acc: 0.0104 - top_k_categorical_accuracy: 0.0515 - val_loss: 4.7901 - val_acc: 0.0080 - val_top_k_categorical_accuracy: 0.0449\n",
      "Epoch 11/20\n",
      "27546/27546 [==============================] - 11s 403us/step - loss: 4.7871 - acc: 0.0094 - top_k_categorical_accuracy: 0.0509 - val_loss: 4.7895 - val_acc: 0.0084 - val_top_k_categorical_accuracy: 0.0434\n",
      "Epoch 12/20\n",
      "27546/27546 [==============================] - 11s 400us/step - loss: 4.7860 - acc: 0.0102 - top_k_categorical_accuracy: 0.0501 - val_loss: 4.7880 - val_acc: 0.0080 - val_top_k_categorical_accuracy: 0.0437\n",
      "Epoch 13/20\n",
      "27546/27546 [==============================] - 11s 404us/step - loss: 4.7852 - acc: 0.0102 - top_k_categorical_accuracy: 0.0495 - val_loss: 4.7874 - val_acc: 0.0080 - val_top_k_categorical_accuracy: 0.0434\n",
      "Epoch 14/20\n",
      "27546/27546 [==============================] - 11s 407us/step - loss: 4.7844 - acc: 0.0100 - top_k_categorical_accuracy: 0.0519 - val_loss: 4.7866 - val_acc: 0.0080 - val_top_k_categorical_accuracy: 0.0437\n",
      "Epoch 15/20\n",
      "27546/27546 [==============================] - 11s 414us/step - loss: 4.7833 - acc: 0.0098 - top_k_categorical_accuracy: 0.0515 - val_loss: 4.7863 - val_acc: 0.0089 - val_top_k_categorical_accuracy: 0.0436\n",
      "Epoch 16/20\n",
      "27546/27546 [==============================] - 11s 412us/step - loss: 4.7832 - acc: 0.0099 - top_k_categorical_accuracy: 0.0501 - val_loss: 4.7859 - val_acc: 0.0080 - val_top_k_categorical_accuracy: 0.0434\n",
      "Epoch 17/20\n",
      "27546/27546 [==============================] - 11s 417us/step - loss: 4.7829 - acc: 0.0110 - top_k_categorical_accuracy: 0.0528 - val_loss: 4.7855 - val_acc: 0.0080 - val_top_k_categorical_accuracy: 0.0434\n",
      "Epoch 18/20\n",
      "27546/27546 [==============================] - 11s 405us/step - loss: 4.7819 - acc: 0.0101 - top_k_categorical_accuracy: 0.0536 - val_loss: 4.7849 - val_acc: 0.0080 - val_top_k_categorical_accuracy: 0.0436\n",
      "Epoch 19/20\n",
      "27546/27546 [==============================] - 11s 405us/step - loss: 4.7814 - acc: 0.0106 - top_k_categorical_accuracy: 0.0524 - val_loss: 4.7846 - val_acc: 0.0080 - val_top_k_categorical_accuracy: 0.0436\n",
      "Epoch 20/20\n",
      "27546/27546 [==============================] - 11s 410us/step - loss: 4.7811 - acc: 0.0104 - top_k_categorical_accuracy: 0.0516 - val_loss: 4.7843 - val_acc: 0.0080 - val_top_k_categorical_accuracy: 0.0439\n"
     ]
    }
   ],
   "source": [
    "epochs = 20\n",
    "history = model.fit(x_train,y_train,batch_size=128,epochs=epochs, validation_data=[x_valid, y_valid])"
   ]
  },
  {
   "cell_type": "code",
   "execution_count": 0,
   "metadata": {
    "colab": {},
    "colab_type": "code",
    "id": "clzRJwbaOt1R"
   },
   "outputs": [],
   "source": [
    "a = model.predict(x_valid)\n",
    "b = y_valid\n",
    "# a,b"
   ]
  },
  {
   "cell_type": "code",
   "execution_count": 0,
   "metadata": {
    "colab": {
     "base_uri": "https://localhost:8080/",
     "height": 35
    },
    "colab_type": "code",
    "id": "eTM5KE0jeAkz",
    "outputId": "48ffebe6-95e3-465c-d7e2-909712403908"
   },
   "outputs": [
    {
     "data": {
      "text/plain": [
       "4.782591408632205"
      ]
     },
     "execution_count": 25,
     "metadata": {
      "tags": []
     },
     "output_type": "execute_result"
    }
   ],
   "source": [
    "logloss(a,b)"
   ]
  },
  {
   "cell_type": "code",
   "execution_count": 0,
   "metadata": {
    "colab": {
     "base_uri": "https://localhost:8080/",
     "height": 297
    },
    "colab_type": "code",
    "id": "acZ-as9MgNXp",
    "outputId": "883bae09-ee4d-4920-cf43-c778f6fbf1c1"
   },
   "outputs": [
    {
     "data": {
      "image/png": "[encoded data removed]",
      "text/plain": [
       "<Figure size 432x288 with 1 Axes>"
      ]
     },
     "metadata": {
      "tags": []
     },
     "output_type": "display_data"
    }
   ],
   "source": [
    "hist_train_loss = history.history['top_k_categorical_accuracy']\n",
    "hist_vaild_loss = history.history['val_top_k_categorical_accuracy']\n",
    "import matplotlib.pyplot as plt\n",
    "%matplotlib inline\n",
    "fig = plt.figure(figsize=(6, 4))\n",
    "epochs_loss = history.epoch\n",
    "\n",
    "line0, = plt.plot(hist_train_loss, '-r', LineWidth=2)\n",
    "line1, = plt.plot(hist_vaild_loss,'ob', LineWidth=4)\n",
    "\n",
    "plt.xlabel('Epochs', FontSize=13)\n",
    "plt.ylabel('Acc', FontSize=13)\n",
    "plt.xticks(FontSize=10)\n",
    "plt.yticks(FontSize=10)\n",
    "plt.legend([line0, line1], ['Training Acc','Vaildation Acc'], fontsize=13)\n",
    "plt.tight_layout()\n",
    "plt.show()"
   ]
  },
  {
   "cell_type": "code",
   "execution_count": 0,
   "metadata": {
    "colab": {
     "base_uri": "https://localhost:8080/",
     "height": 297
    },
    "colab_type": "code",
    "id": "jsWhZTYSgNIr",
    "outputId": "d8273f3a-70e3-4145-8009-ed75c83592e7"
   },
   "outputs": [
    {
     "data": {
      "image/png": "[encoded data removed]",
      "text/plain": [
       "<Figure size 432x288 with 1 Axes>"
      ]
     },
     "metadata": {
      "tags": []
     },
     "output_type": "display_data"
    }
   ],
   "source": [
    "hist_train_loss = history.history['loss']\n",
    "hist_vaild_loss = history.history['val_loss']\n",
    "import matplotlib.pyplot as plt\n",
    "%matplotlib inline\n",
    "fig = plt.figure(figsize=(6, 4))\n",
    "epochs_loss = history.epoch\n",
    "\n",
    "line0, = plt.plot(hist_train_loss, '-r', LineWidth=2)\n",
    "line1, = plt.plot(hist_vaild_loss,'ob', LineWidth=4)\n",
    "\n",
    "plt.xlabel('Epochs', FontSize=13)\n",
    "plt.ylabel('Loss', FontSize=13)\n",
    "plt.xticks(FontSize=10)\n",
    "plt.yticks(FontSize=10)\n",
    "plt.legend([line0, line1], ['Training loss','Vaildation loss'], fontsize=13)\n",
    "plt.tight_layout()\n",
    "plt.show()"
   ]
  },
  {
   "cell_type": "markdown",
   "metadata": {
    "colab_type": "text",
    "id": "eGFvyzyz7Luw"
   },
   "source": [
    "### resnet 18"
   ]
  },
  {
   "cell_type": "code",
   "execution_count": 0,
   "metadata": {
    "colab": {},
    "colab_type": "code",
    "id": "JA5PBqQ2Py9z"
   },
   "outputs": [],
   "source": [
    "import keras\n",
    "from keras.layers import Dense, Conv2D, BatchNormalization, Activation, Dropout, Conv1D\n",
    "from keras.layers import AveragePooling2D, Input, Flatten, MaxPooling2D, MaxPooling1D, AveragePooling1D\n",
    "from keras.regularizers import l2\n",
    "from keras.optimizers import Adam,RMSprop\n",
    "from keras.models import Model\n",
    "from keras import regularizers"
   ]
  },
  {
   "cell_type": "code",
   "execution_count": 0,
   "metadata": {
    "colab": {},
    "colab_type": "code",
    "id": "Nm2sE-8yQ9dU"
   },
   "outputs": [],
   "source": [
    "def resnet_block(inputs,num_filters,kernel_size=3):\n",
    "  x = Conv2D(num_filters,kernel_size=kernel_size,strides=1,padding='same',kernel_regularizer=regularizers.l2(0.001))(inputs)\n",
    "  x = BatchNormalization()(x)\n",
    "  x = Activation('relu')(x)\n",
    "  x = Conv2D(num_filters,kernel_size=kernel_size,strides=1,padding='same',kernel_regularizer=regularizers.l2(0.001))(x)\n",
    "  x = keras.layers.add([x,inputs])\n",
    "  x = BatchNormalization()(x)\n",
    "  x = Activation('relu')(x)\n",
    "  return x"
   ]
  },
  {
   "cell_type": "code",
   "execution_count": 0,
   "metadata": {
    "colab": {},
    "colab_type": "code",
    "id": "ZC-EjEHsQ-t8"
   },
   "outputs": [],
   "source": [
    "def resnet(input_shape):\n",
    "  inputs = Input(shape=input_shape)\n",
    "  # conv 1\n",
    "  x = Conv2D(filters=64,kernel_size=7,strides=2,padding='same')(inputs)\n",
    "\n",
    "  # conv 2.x\n",
    "  x = MaxPooling2D(pool_size=(3,3),strides=2,padding='same')(x)\n",
    "  x = resnet_block(inputs=x ,num_filters=64,kernel_size=3)\n",
    "  x = resnet_block(inputs=x ,num_filters=64,kernel_size=3)\n",
    "\n",
    "  # conv 3.x\n",
    "  x = MaxPooling2D(pool_size=(3,3),strides=2,padding='same')(x)\n",
    "  x = Conv2D(filters=128,kernel_size=3,strides=1,padding='same')(x)\n",
    "  x = resnet_block(inputs=x ,num_filters=128,kernel_size=3)\n",
    "  x = resnet_block(inputs=x ,num_filters=128,kernel_size=3)\n",
    "\n",
    "  x = Dropout(0.5)(x)\n",
    "\n",
    "  # conv 4.x\n",
    "  x = MaxPooling2D(pool_size=(3,3),strides=2,padding='same')(x)\n",
    "  x = Conv2D(filters=256,kernel_size=3,strides=1,padding='same')(x)\n",
    "  x = resnet_block(inputs=x ,num_filters=256,kernel_size=3)\n",
    "  x = resnet_block(inputs=x ,num_filters=256,kernel_size=3)\n",
    "\n",
    "  #conv 5.x\n",
    "  x = MaxPooling2D(pool_size=(3,3),strides=2,padding='same')(x)\n",
    "  x = Conv2D(filters=256,kernel_size=3,strides=1,padding='same')(x)\n",
    "  x = resnet_block(inputs=x ,num_filters=256,kernel_size=3)\n",
    "  x = resnet_block(inputs=x ,num_filters=256,kernel_size=3)\n",
    "\n",
    "  x = AveragePooling2D(pool_size=2)(x)\n",
    "  x = Flatten()(x)\n",
    "\n",
    "  outputs = Dense(121,activation='softmax')(x)\n",
    "\n",
    "\n",
    "  model = Model(inputs=inputs,outputs=outputs)\n",
    "  return model\n"
   ]
  },
  {
   "cell_type": "code",
   "execution_count": 0,
   "metadata": {
    "colab": {
     "base_uri": "https://localhost:8080/",
     "height": 1000
    },
    "colab_type": "code",
    "id": "e3846csah52V",
    "outputId": "50a0e568-f3dc-4049-b1b4-b6154bbc8fe3"
   },
   "outputs": [
    {
     "name": "stdout",
     "output_type": "stream",
     "text": [
      "WARNING:tensorflow:From /usr/local/lib/python3.6/dist-packages/keras/backend/tensorflow_backend.py:66: The name tf.get_default_graph is deprecated. Please use tf.compat.v1.get_default_graph instead.\n",
      "\n",
      "WARNING:tensorflow:From /usr/local/lib/python3.6/dist-packages/keras/backend/tensorflow_backend.py:541: The name tf.placeholder is deprecated. Please use tf.compat.v1.placeholder instead.\n",
      "\n",
      "WARNING:tensorflow:From /usr/local/lib/python3.6/dist-packages/keras/backend/tensorflow_backend.py:4432: The name tf.random_uniform is deprecated. Please use tf.random.uniform instead.\n",
      "\n",
      "WARNING:tensorflow:From /usr/local/lib/python3.6/dist-packages/keras/backend/tensorflow_backend.py:4267: The name tf.nn.max_pool is deprecated. Please use tf.nn.max_pool2d instead.\n",
      "\n",
      "WARNING:tensorflow:From /usr/local/lib/python3.6/dist-packages/keras/backend/tensorflow_backend.py:190: The name tf.get_default_session is deprecated. Please use tf.compat.v1.get_default_session instead.\n",
      "\n",
      "WARNING:tensorflow:From /usr/local/lib/python3.6/dist-packages/keras/backend/tensorflow_backend.py:197: The name tf.ConfigProto is deprecated. Please use tf.compat.v1.ConfigProto instead.\n",
      "\n",
      "WARNING:tensorflow:From /usr/local/lib/python3.6/dist-packages/keras/backend/tensorflow_backend.py:203: The name tf.Session is deprecated. Please use tf.compat.v1.Session instead.\n",
      "\n",
      "WARNING:tensorflow:From /usr/local/lib/python3.6/dist-packages/keras/backend/tensorflow_backend.py:207: The name tf.global_variables is deprecated. Please use tf.compat.v1.global_variables instead.\n",
      "\n",
      "WARNING:tensorflow:From /usr/local/lib/python3.6/dist-packages/keras/backend/tensorflow_backend.py:216: The name tf.is_variable_initialized is deprecated. Please use tf.compat.v1.is_variable_initialized instead.\n",
      "\n",
      "WARNING:tensorflow:From /usr/local/lib/python3.6/dist-packages/keras/backend/tensorflow_backend.py:223: The name tf.variables_initializer is deprecated. Please use tf.compat.v1.variables_initializer instead.\n",
      "\n",
      "WARNING:tensorflow:From /usr/local/lib/python3.6/dist-packages/keras/backend/tensorflow_backend.py:2041: The name tf.nn.fused_batch_norm is deprecated. Please use tf.compat.v1.nn.fused_batch_norm instead.\n",
      "\n",
      "WARNING:tensorflow:From /usr/local/lib/python3.6/dist-packages/keras/backend/tensorflow_backend.py:148: The name tf.placeholder_with_default is deprecated. Please use tf.compat.v1.placeholder_with_default instead.\n",
      "\n",
      "WARNING:tensorflow:From /usr/local/lib/python3.6/dist-packages/keras/backend/tensorflow_backend.py:3733: calling dropout (from tensorflow.python.ops.nn_ops) with keep_prob is deprecated and will be removed in a future version.\n",
      "Instructions for updating:\n",
      "Please use `rate` instead of `keep_prob`. Rate should be set to `rate = 1 - keep_prob`.\n",
      "WARNING:tensorflow:From /usr/local/lib/python3.6/dist-packages/keras/backend/tensorflow_backend.py:4271: The name tf.nn.avg_pool is deprecated. Please use tf.nn.avg_pool2d instead.\n",
      "\n",
      "Model: \"model_1\"\n",
      "__________________________________________________________________________________________________\n",
      "Layer (type)                    Output Shape         Param #     Connected to                     \n",
      "==================================================================================================\n",
      "input_1 (InputLayer)            (None, 64, 64, 1)    0                                            \n",
      "__________________________________________________________________________________________________\n",
      "conv2d_1 (Conv2D)               (None, 32, 32, 64)   3200        input_1[0][0]                    \n",
      "__________________________________________________________________________________________________\n",
      "max_pooling2d_1 (MaxPooling2D)  (None, 16, 16, 64)   0           conv2d_1[0][0]                   \n",
      "__________________________________________________________________________________________________\n",
      "conv2d_2 (Conv2D)               (None, 16, 16, 64)   36928       max_pooling2d_1[0][0]            \n",
      "__________________________________________________________________________________________________\n",
      "batch_normalization_1 (BatchNor (None, 16, 16, 64)   256         conv2d_2[0][0]                   \n",
      "__________________________________________________________________________________________________\n",
      "activation_1 (Activation)       (None, 16, 16, 64)   0           batch_normalization_1[0][0]      \n",
      "__________________________________________________________________________________________________\n",
      "conv2d_3 (Conv2D)               (None, 16, 16, 64)   36928       activation_1[0][0]               \n",
      "__________________________________________________________________________________________________\n",
      "add_1 (Add)                     (None, 16, 16, 64)   0           conv2d_3[0][0]                   \n",
      "                                                                 max_pooling2d_1[0][0]            \n",
      "__________________________________________________________________________________________________\n",
      "batch_normalization_2 (BatchNor (None, 16, 16, 64)   256         add_1[0][0]                      \n",
      "__________________________________________________________________________________________________\n",
      "activation_2 (Activation)       (None, 16, 16, 64)   0           batch_normalization_2[0][0]      \n",
      "__________________________________________________________________________________________________\n",
      "conv2d_4 (Conv2D)               (None, 16, 16, 64)   36928       activation_2[0][0]               \n",
      "__________________________________________________________________________________________________\n",
      "batch_normalization_3 (BatchNor (None, 16, 16, 64)   256         conv2d_4[0][0]                   \n",
      "__________________________________________________________________________________________________\n",
      "activation_3 (Activation)       (None, 16, 16, 64)   0           batch_normalization_3[0][0]      \n",
      "__________________________________________________________________________________________________\n",
      "conv2d_5 (Conv2D)               (None, 16, 16, 64)   36928       activation_3[0][0]               \n",
      "__________________________________________________________________________________________________\n",
      "add_2 (Add)                     (None, 16, 16, 64)   0           conv2d_5[0][0]                   \n",
      "                                                                 activation_2[0][0]               \n",
      "__________________________________________________________________________________________________\n",
      "batch_normalization_4 (BatchNor (None, 16, 16, 64)   256         add_2[0][0]                      \n",
      "__________________________________________________________________________________________________\n",
      "activation_4 (Activation)       (None, 16, 16, 64)   0           batch_normalization_4[0][0]      \n",
      "__________________________________________________________________________________________________\n",
      "max_pooling2d_2 (MaxPooling2D)  (None, 8, 8, 64)     0           activation_4[0][0]               \n",
      "__________________________________________________________________________________________________\n",
      "conv2d_6 (Conv2D)               (None, 8, 8, 128)    73856       max_pooling2d_2[0][0]            \n",
      "__________________________________________________________________________________________________\n",
      "conv2d_7 (Conv2D)               (None, 8, 8, 128)    147584      conv2d_6[0][0]                   \n",
      "__________________________________________________________________________________________________\n",
      "batch_normalization_5 (BatchNor (None, 8, 8, 128)    512         conv2d_7[0][0]                   \n",
      "__________________________________________________________________________________________________\n",
      "activation_5 (Activation)       (None, 8, 8, 128)    0           batch_normalization_5[0][0]      \n",
      "__________________________________________________________________________________________________\n",
      "conv2d_8 (Conv2D)               (None, 8, 8, 128)    147584      activation_5[0][0]               \n",
      "__________________________________________________________________________________________________\n",
      "add_3 (Add)                     (None, 8, 8, 128)    0           conv2d_8[0][0]                   \n",
      "                                                                 conv2d_6[0][0]                   \n",
      "__________________________________________________________________________________________________\n",
      "batch_normalization_6 (BatchNor (None, 8, 8, 128)    512         add_3[0][0]                      \n",
      "__________________________________________________________________________________________________\n",
      "activation_6 (Activation)       (None, 8, 8, 128)    0           batch_normalization_6[0][0]      \n",
      "__________________________________________________________________________________________________\n",
      "conv2d_9 (Conv2D)               (None, 8, 8, 128)    147584      activation_6[0][0]               \n",
      "__________________________________________________________________________________________________\n",
      "batch_normalization_7 (BatchNor (None, 8, 8, 128)    512         conv2d_9[0][0]                   \n",
      "__________________________________________________________________________________________________\n",
      "activation_7 (Activation)       (None, 8, 8, 128)    0           batch_normalization_7[0][0]      \n",
      "__________________________________________________________________________________________________\n",
      "conv2d_10 (Conv2D)              (None, 8, 8, 128)    147584      activation_7[0][0]               \n",
      "__________________________________________________________________________________________________\n",
      "add_4 (Add)                     (None, 8, 8, 128)    0           conv2d_10[0][0]                  \n",
      "                                                                 activation_6[0][0]               \n",
      "__________________________________________________________________________________________________\n",
      "batch_normalization_8 (BatchNor (None, 8, 8, 128)    512         add_4[0][0]                      \n",
      "__________________________________________________________________________________________________\n",
      "activation_8 (Activation)       (None, 8, 8, 128)    0           batch_normalization_8[0][0]      \n",
      "__________________________________________________________________________________________________\n",
      "dropout_1 (Dropout)             (None, 8, 8, 128)    0           activation_8[0][0]               \n",
      "__________________________________________________________________________________________________\n",
      "max_pooling2d_3 (MaxPooling2D)  (None, 4, 4, 128)    0           dropout_1[0][0]                  \n",
      "__________________________________________________________________________________________________\n",
      "conv2d_11 (Conv2D)              (None, 4, 4, 256)    295168      max_pooling2d_3[0][0]            \n",
      "__________________________________________________________________________________________________\n",
      "conv2d_12 (Conv2D)              (None, 4, 4, 256)    590080      conv2d_11[0][0]                  \n",
      "__________________________________________________________________________________________________\n",
      "batch_normalization_9 (BatchNor (None, 4, 4, 256)    1024        conv2d_12[0][0]                  \n",
      "__________________________________________________________________________________________________\n",
      "activation_9 (Activation)       (None, 4, 4, 256)    0           batch_normalization_9[0][0]      \n",
      "__________________________________________________________________________________________________\n",
      "conv2d_13 (Conv2D)              (None, 4, 4, 256)    590080      activation_9[0][0]               \n",
      "__________________________________________________________________________________________________\n",
      "add_5 (Add)                     (None, 4, 4, 256)    0           conv2d_13[0][0]                  \n",
      "                                                                 conv2d_11[0][0]                  \n",
      "__________________________________________________________________________________________________\n",
      "batch_normalization_10 (BatchNo (None, 4, 4, 256)    1024        add_5[0][0]                      \n",
      "__________________________________________________________________________________________________\n",
      "activation_10 (Activation)      (None, 4, 4, 256)    0           batch_normalization_10[0][0]     \n",
      "__________________________________________________________________________________________________\n",
      "conv2d_14 (Conv2D)              (None, 4, 4, 256)    590080      activation_10[0][0]              \n",
      "__________________________________________________________________________________________________\n",
      "batch_normalization_11 (BatchNo (None, 4, 4, 256)    1024        conv2d_14[0][0]                  \n",
      "__________________________________________________________________________________________________\n",
      "activation_11 (Activation)      (None, 4, 4, 256)    0           batch_normalization_11[0][0]     \n",
      "__________________________________________________________________________________________________\n",
      "conv2d_15 (Conv2D)              (None, 4, 4, 256)    590080      activation_11[0][0]              \n",
      "__________________________________________________________________________________________________\n",
      "add_6 (Add)                     (None, 4, 4, 256)    0           conv2d_15[0][0]                  \n",
      "                                                                 activation_10[0][0]              \n",
      "__________________________________________________________________________________________________\n",
      "batch_normalization_12 (BatchNo (None, 4, 4, 256)    1024        add_6[0][0]                      \n",
      "__________________________________________________________________________________________________\n",
      "activation_12 (Activation)      (None, 4, 4, 256)    0           batch_normalization_12[0][0]     \n",
      "__________________________________________________________________________________________________\n",
      "max_pooling2d_4 (MaxPooling2D)  (None, 2, 2, 256)    0           activation_12[0][0]              \n",
      "__________________________________________________________________________________________________\n",
      "conv2d_16 (Conv2D)              (None, 2, 2, 256)    590080      max_pooling2d_4[0][0]            \n",
      "__________________________________________________________________________________________________\n",
      "conv2d_17 (Conv2D)              (None, 2, 2, 256)    590080      conv2d_16[0][0]                  \n",
      "__________________________________________________________________________________________________\n",
      "batch_normalization_13 (BatchNo (None, 2, 2, 256)    1024        conv2d_17[0][0]                  \n",
      "__________________________________________________________________________________________________\n",
      "activation_13 (Activation)      (None, 2, 2, 256)    0           batch_normalization_13[0][0]     \n",
      "__________________________________________________________________________________________________\n",
      "conv2d_18 (Conv2D)              (None, 2, 2, 256)    590080      activation_13[0][0]              \n",
      "__________________________________________________________________________________________________\n",
      "add_7 (Add)                     (None, 2, 2, 256)    0           conv2d_18[0][0]                  \n",
      "                                                                 conv2d_16[0][0]                  \n",
      "__________________________________________________________________________________________________\n",
      "batch_normalization_14 (BatchNo (None, 2, 2, 256)    1024        add_7[0][0]                      \n",
      "__________________________________________________________________________________________________\n",
      "activation_14 (Activation)      (None, 2, 2, 256)    0           batch_normalization_14[0][0]     \n",
      "__________________________________________________________________________________________________\n",
      "conv2d_19 (Conv2D)              (None, 2, 2, 256)    590080      activation_14[0][0]              \n",
      "__________________________________________________________________________________________________\n",
      "batch_normalization_15 (BatchNo (None, 2, 2, 256)    1024        conv2d_19[0][0]                  \n",
      "__________________________________________________________________________________________________\n",
      "activation_15 (Activation)      (None, 2, 2, 256)    0           batch_normalization_15[0][0]     \n",
      "__________________________________________________________________________________________________\n",
      "conv2d_20 (Conv2D)              (None, 2, 2, 256)    590080      activation_15[0][0]              \n",
      "__________________________________________________________________________________________________\n",
      "add_8 (Add)                     (None, 2, 2, 256)    0           conv2d_20[0][0]                  \n",
      "                                                                 activation_14[0][0]              \n",
      "__________________________________________________________________________________________________\n",
      "batch_normalization_16 (BatchNo (None, 2, 2, 256)    1024        add_8[0][0]                      \n",
      "__________________________________________________________________________________________________\n",
      "activation_16 (Activation)      (None, 2, 2, 256)    0           batch_normalization_16[0][0]     \n",
      "__________________________________________________________________________________________________\n",
      "average_pooling2d_1 (AveragePoo (None, 1, 1, 256)    0           activation_16[0][0]              \n",
      "__________________________________________________________________________________________________\n",
      "flatten_1 (Flatten)             (None, 256)          0           average_pooling2d_1[0][0]        \n",
      "__________________________________________________________________________________________________\n",
      "dense_1 (Dense)                 (None, 121)          31097       flatten_1[0][0]                  \n",
      "==================================================================================================\n",
      "Total params: 6,463,353\n",
      "Trainable params: 6,457,721\n",
      "Non-trainable params: 5,632\n",
      "__________________________________________________________________________________________________\n"
     ]
    }
   ],
   "source": [
    "model = resnet((64,64,1))\n",
    "model.summary()"
   ]
  },
  {
   "cell_type": "code",
   "execution_count": 0,
   "metadata": {
    "colab": {
     "base_uri": "https://localhost:8080/",
     "height": 110
    },
    "colab_type": "code",
    "id": "NtAdz2IKh5rG",
    "outputId": "b9cabe95-86d3-4644-f71d-0f71c1b57355"
   },
   "outputs": [
    {
     "name": "stdout",
     "output_type": "stream",
     "text": [
      "WARNING:tensorflow:From /usr/local/lib/python3.6/dist-packages/keras/optimizers.py:793: The name tf.train.Optimizer is deprecated. Please use tf.compat.v1.train.Optimizer instead.\n",
      "\n",
      "WARNING:tensorflow:From /usr/local/lib/python3.6/dist-packages/keras/backend/tensorflow_backend.py:3576: The name tf.log is deprecated. Please use tf.math.log instead.\n",
      "\n"
     ]
    }
   ],
   "source": [
    "model.compile(loss='categorical_crossentropy',optimizer=RMSprop(lr=1e-3),metrics=['acc','top_k_categorical_accuracy'])"
   ]
  },
  {
   "cell_type": "code",
   "execution_count": 0,
   "metadata": {
    "colab": {
     "base_uri": "https://localhost:8080/",
     "height": 910
    },
    "colab_type": "code",
    "id": "W4crz8nnh5gK",
    "outputId": "30aaa3f9-cc28-473b-ec67-a9e8c92d9d12"
   },
   "outputs": [
    {
     "name": "stdout",
     "output_type": "stream",
     "text": [
      "WARNING:tensorflow:From /usr/local/lib/python3.6/dist-packages/tensorflow_core/python/ops/math_grad.py:1424: where (from tensorflow.python.ops.array_ops) is deprecated and will be removed in a future version.\n",
      "Instructions for updating:\n",
      "Use tf.where in 2.0, which has the same broadcast rule as np.where\n",
      "WARNING:tensorflow:From /usr/local/lib/python3.6/dist-packages/keras/backend/tensorflow_backend.py:1033: The name tf.assign_add is deprecated. Please use tf.compat.v1.assign_add instead.\n",
      "\n",
      "WARNING:tensorflow:From /usr/local/lib/python3.6/dist-packages/keras/backend/tensorflow_backend.py:1020: The name tf.assign is deprecated. Please use tf.compat.v1.assign instead.\n",
      "\n",
      "Train on 24268 samples, validate on 6068 samples\n",
      "Epoch 1/20\n",
      "24268/24268 [==============================] - 32s 1ms/step - loss: 4.8274 - acc: 0.0630 - top_k_categorical_accuracy: 0.2293 - val_loss: 5.9027 - val_acc: 0.0170 - val_top_k_categorical_accuracy: 0.1348\n",
      "Epoch 2/20\n",
      "24268/24268 [==============================] - 26s 1ms/step - loss: 4.2158 - acc: 0.0654 - top_k_categorical_accuracy: 0.2317 - val_loss: 4.2410 - val_acc: 0.0603 - val_top_k_categorical_accuracy: 0.2175\n",
      "Epoch 3/20\n",
      "24268/24268 [==============================] - 26s 1ms/step - loss: 4.2146 - acc: 0.0662 - top_k_categorical_accuracy: 0.2312 - val_loss: 4.2334 - val_acc: 0.0603 - val_top_k_categorical_accuracy: 0.2286\n",
      "Epoch 4/20\n",
      "24268/24268 [==============================] - 26s 1ms/step - loss: 4.2107 - acc: 0.0630 - top_k_categorical_accuracy: 0.2321 - val_loss: 4.2194 - val_acc: 0.0687 - val_top_k_categorical_accuracy: 0.2297\n",
      "Epoch 5/20\n",
      "24268/24268 [==============================] - 26s 1ms/step - loss: 4.2072 - acc: 0.0649 - top_k_categorical_accuracy: 0.2324 - val_loss: 4.2202 - val_acc: 0.0687 - val_top_k_categorical_accuracy: 0.2271\n",
      "Epoch 6/20\n",
      "24268/24268 [==============================] - 26s 1ms/step - loss: 4.2047 - acc: 0.0676 - top_k_categorical_accuracy: 0.2323 - val_loss: 4.2213 - val_acc: 0.0603 - val_top_k_categorical_accuracy: 0.2350\n",
      "Epoch 7/20\n",
      "24268/24268 [==============================] - 26s 1ms/step - loss: 4.2039 - acc: 0.0643 - top_k_categorical_accuracy: 0.2340 - val_loss: 4.2331 - val_acc: 0.0603 - val_top_k_categorical_accuracy: 0.2147\n",
      "Epoch 8/20\n",
      "24268/24268 [==============================] - 26s 1ms/step - loss: 4.2037 - acc: 0.0633 - top_k_categorical_accuracy: 0.2336 - val_loss: 4.2350 - val_acc: 0.0603 - val_top_k_categorical_accuracy: 0.2368\n",
      "Epoch 9/20\n",
      "24268/24268 [==============================] - 26s 1ms/step - loss: 4.2021 - acc: 0.0677 - top_k_categorical_accuracy: 0.2339 - val_loss: 4.2361 - val_acc: 0.0687 - val_top_k_categorical_accuracy: 0.2287\n",
      "Epoch 10/20\n",
      "24268/24268 [==============================] - 26s 1ms/step - loss: 4.2027 - acc: 0.0648 - top_k_categorical_accuracy: 0.2332 - val_loss: 4.2178 - val_acc: 0.0603 - val_top_k_categorical_accuracy: 0.2362\n",
      "Epoch 11/20\n",
      "24268/24268 [==============================] - 26s 1ms/step - loss: 4.1992 - acc: 0.0640 - top_k_categorical_accuracy: 0.2338 - val_loss: 4.2221 - val_acc: 0.0326 - val_top_k_categorical_accuracy: 0.2362\n",
      "Epoch 12/20\n",
      "24268/24268 [==============================] - 26s 1ms/step - loss: 4.1975 - acc: 0.0650 - top_k_categorical_accuracy: 0.2337 - val_loss: 4.2114 - val_acc: 0.0687 - val_top_k_categorical_accuracy: 0.2362\n",
      "Epoch 13/20\n",
      "24268/24268 [==============================] - 26s 1ms/step - loss: 4.1961 - acc: 0.0647 - top_k_categorical_accuracy: 0.2346 - val_loss: 4.2525 - val_acc: 0.0603 - val_top_k_categorical_accuracy: 0.2368\n",
      "Epoch 14/20\n",
      "24268/24268 [==============================] - 26s 1ms/step - loss: 4.1951 - acc: 0.0649 - top_k_categorical_accuracy: 0.2346 - val_loss: 4.2152 - val_acc: 0.0603 - val_top_k_categorical_accuracy: 0.2271\n",
      "Epoch 15/20\n",
      "24268/24268 [==============================] - 26s 1ms/step - loss: 4.1952 - acc: 0.0649 - top_k_categorical_accuracy: 0.2349 - val_loss: 4.2231 - val_acc: 0.0603 - val_top_k_categorical_accuracy: 0.2362\n",
      "Epoch 16/20\n",
      "24268/24268 [==============================] - 26s 1ms/step - loss: 4.1925 - acc: 0.0630 - top_k_categorical_accuracy: 0.2348 - val_loss: 4.2078 - val_acc: 0.0687 - val_top_k_categorical_accuracy: 0.2271\n",
      "Epoch 17/20\n",
      "24268/24268 [==============================] - 26s 1ms/step - loss: 4.1900 - acc: 0.0637 - top_k_categorical_accuracy: 0.2352 - val_loss: 4.2967 - val_acc: 0.0326 - val_top_k_categorical_accuracy: 0.2368\n",
      "Epoch 18/20\n",
      "24268/24268 [==============================] - 26s 1ms/step - loss: 4.1901 - acc: 0.0659 - top_k_categorical_accuracy: 0.2326 - val_loss: 4.2045 - val_acc: 0.0687 - val_top_k_categorical_accuracy: 0.2362\n",
      "Epoch 19/20\n",
      "24268/24268 [==============================] - 26s 1ms/step - loss: 4.1892 - acc: 0.0633 - top_k_categorical_accuracy: 0.2352 - val_loss: 4.2584 - val_acc: 0.0603 - val_top_k_categorical_accuracy: 0.2362\n",
      "Epoch 20/20\n",
      "24268/24268 [==============================] - 26s 1ms/step - loss: 4.1875 - acc: 0.0662 - top_k_categorical_accuracy: 0.2348 - val_loss: 4.3206 - val_acc: 0.0687 - val_top_k_categorical_accuracy: 0.2240\n"
     ]
    }
   ],
   "source": [
    "epochs = 20\n",
    "history = model.fit(x_train,y_train,batch_size=128,epochs=epochs, validation_data=[x_valid, y_valid])"
   ]
  },
  {
   "cell_type": "code",
   "execution_count": 0,
   "metadata": {
    "colab": {
     "base_uri": "https://localhost:8080/",
     "height": 35
    },
    "colab_type": "code",
    "id": "zywnfrgNiKTP",
    "outputId": "89834bb9-f6a7-461a-d5bf-5282bd3a44c0"
   },
   "outputs": [
    {
     "data": {
      "text/plain": [
       "4.304094931917436"
      ]
     },
     "execution_count": 26,
     "metadata": {
      "tags": []
     },
     "output_type": "execute_result"
    }
   ],
   "source": [
    "logloss(a,b)"
   ]
  },
  {
   "cell_type": "code",
   "execution_count": 0,
   "metadata": {
    "colab": {},
    "colab_type": "code",
    "id": "WOE6YgE0iKIh"
   },
   "outputs": [],
   "source": []
  },
  {
   "cell_type": "markdown",
   "metadata": {
    "colab_type": "text",
    "id": "LPFJFI0PPu_J"
   },
   "source": [
    "### resnet50"
   ]
  },
  {
   "cell_type": "code",
   "execution_count": 0,
   "metadata": {
    "colab": {},
    "colab_type": "code",
    "id": "u1RGOs48CJa3"
   },
   "outputs": [],
   "source": [
    "def resnet_block_bottleneck(inputs,num1,num2,num3):\n",
    "  x = Conv2D(num1,kernel_size=(1,1),strides=1,padding='same',kernel_regularizer=regularizers.l2(0.0001))(inputs)\n",
    "  x = BatchNormalization()(x)\n",
    "  x = Activation('relu')(x)\n",
    "\n",
    "  x = Conv2D(num2,kernel_size=(3,3),strides=1,padding='same',kernel_regularizer=regularizers.l2(0.0001))(inputs)\n",
    "  x = BatchNormalization()(x)\n",
    "  x = Activation('relu')(x)\n",
    "\n",
    "  x = Conv2D(num3,kernel_size=(1,1),strides=1,padding='same',kernel_regularizer=regularizers.l2(0.0001))(x)\n",
    "  x = keras.layers.add([x,inputs])\n",
    "  x = BatchNormalization()(x)\n",
    "  x = Activation('relu')(x)\n",
    "  return x"
   ]
  },
  {
   "cell_type": "code",
   "execution_count": 0,
   "metadata": {
    "colab": {},
    "colab_type": "code",
    "id": "EGDIm9TgDAKJ"
   },
   "outputs": [],
   "source": [
    "def resnet50(input_shape):\n",
    "  inputs = Input(shape=input_shape)\n",
    "  # conv 1\n",
    "  x = Conv2D(filters=256,kernel_size=7,strides=2,padding='same')(inputs)\n",
    "\n",
    "  # conv 2.x\n",
    "  x = MaxPooling2D(pool_size=(3,3),strides=2,padding='same')(x)\n",
    "  x = resnet_block_bottleneck(inputs=x,num1=64,num2=64,num3=256)\n",
    "  x = resnet_block_bottleneck(inputs=x,num1=64,num2=64,num3=256)\n",
    "  x = resnet_block_bottleneck(inputs=x,num1=64,num2=64,num3=256)\n",
    "\n",
    "  # conv 3.x\n",
    "  x = MaxPooling2D(pool_size=(3,3),strides=2,padding='same')(x)\n",
    "  x = Conv2D(filters=512,kernel_size=3,strides=1,padding='same')(x)\n",
    "  x = resnet_block_bottleneck(inputs=x,num1=128,num2=128,num3=512)\n",
    "  x = resnet_block_bottleneck(inputs=x,num1=128,num2=128,num3=512)\n",
    "  x = resnet_block_bottleneck(inputs=x,num1=128,num2=128,num3=512)\n",
    "  x = resnet_block_bottleneck(inputs=x,num1=128,num2=128,num3=512)\n",
    "\n",
    "  # x = Dropout(0.5)(x)\n",
    "  # conv 4.x\n",
    "  x = MaxPooling2D(pool_size=(3,3),strides=2,padding='same')(x)\n",
    "  x = Conv2D(filters=1024,kernel_size=3,strides=1,padding='same')(x)\n",
    "  x = resnet_block_bottleneck(inputs=x,num1=256,num2=256,num3=1024)\n",
    "  x = resnet_block_bottleneck(inputs=x,num1=256,num2=256,num3=1024)\n",
    "  x = resnet_block_bottleneck(inputs=x,num1=256,num2=256,num3=1024)\n",
    "  x = resnet_block_bottleneck(inputs=x,num1=256,num2=256,num3=1024)\n",
    "\n",
    "  #conv 5.x\n",
    "  x = MaxPooling2D(pool_size=(3,3),strides=2,padding='same')(x)\n",
    "  x = Conv2D(filters=2048,kernel_size=3,strides=1,padding='same')(x)\n",
    "  x = resnet_block_bottleneck(inputs=x,num1=512,num2=512,num3=2048)\n",
    "  x = resnet_block_bottleneck(inputs=x,num1=512,num2=512,num3=2048)\n",
    "  x = resnet_block_bottleneck(inputs=x,num1=512,num2=512,num3=2048)\n",
    "  \n",
    "  x = AveragePooling2D(pool_size=2)(x)\n",
    "  x = Flatten()(x)\n",
    "  x = Dropout(0.4)(x) \n",
    "  outputs = Dense(121,activation='softmax')(x)\n",
    "\n",
    "\n",
    "  model = Model(inputs=inputs,outputs=outputs)\n",
    "  return model"
   ]
  },
  {
   "cell_type": "code",
   "execution_count": 0,
   "metadata": {
    "colab": {
     "base_uri": "https://localhost:8080/",
     "height": 1000
    },
    "colab_type": "code",
    "id": "8ybRu494RFqX",
    "outputId": "21e7ee9e-f5dd-41be-8169-f8dfe9ffb581"
   },
   "outputs": [
    {
     "name": "stdout",
     "output_type": "stream",
     "text": [
      "WARNING:tensorflow:From /usr/local/lib/python3.6/dist-packages/keras/backend/tensorflow_backend.py:190: The name tf.get_default_session is deprecated. Please use tf.compat.v1.get_default_session instead.\n",
      "\n",
      "WARNING:tensorflow:From /usr/local/lib/python3.6/dist-packages/keras/backend/tensorflow_backend.py:197: The name tf.ConfigProto is deprecated. Please use tf.compat.v1.ConfigProto instead.\n",
      "\n",
      "WARNING:tensorflow:From /usr/local/lib/python3.6/dist-packages/keras/backend/tensorflow_backend.py:203: The name tf.Session is deprecated. Please use tf.compat.v1.Session instead.\n",
      "\n",
      "WARNING:tensorflow:From /usr/local/lib/python3.6/dist-packages/keras/backend/tensorflow_backend.py:207: The name tf.global_variables is deprecated. Please use tf.compat.v1.global_variables instead.\n",
      "\n",
      "WARNING:tensorflow:From /usr/local/lib/python3.6/dist-packages/keras/backend/tensorflow_backend.py:216: The name tf.is_variable_initialized is deprecated. Please use tf.compat.v1.is_variable_initialized instead.\n",
      "\n",
      "WARNING:tensorflow:From /usr/local/lib/python3.6/dist-packages/keras/backend/tensorflow_backend.py:223: The name tf.variables_initializer is deprecated. Please use tf.compat.v1.variables_initializer instead.\n",
      "\n",
      "WARNING:tensorflow:From /usr/local/lib/python3.6/dist-packages/keras/backend/tensorflow_backend.py:2041: The name tf.nn.fused_batch_norm is deprecated. Please use tf.compat.v1.nn.fused_batch_norm instead.\n",
      "\n",
      "WARNING:tensorflow:From /usr/local/lib/python3.6/dist-packages/keras/backend/tensorflow_backend.py:148: The name tf.placeholder_with_default is deprecated. Please use tf.compat.v1.placeholder_with_default instead.\n",
      "\n",
      "WARNING:tensorflow:From /usr/local/lib/python3.6/dist-packages/keras/backend/tensorflow_backend.py:4271: The name tf.nn.avg_pool is deprecated. Please use tf.nn.avg_pool2d instead.\n",
      "\n",
      "WARNING:tensorflow:From /usr/local/lib/python3.6/dist-packages/keras/backend/tensorflow_backend.py:3733: calling dropout (from tensorflow.python.ops.nn_ops) with keep_prob is deprecated and will be removed in a future version.\n",
      "Instructions for updating:\n",
      "Please use `rate` instead of `keep_prob`. Rate should be set to `rate = 1 - keep_prob`.\n",
      "Model: \"model_1\"\n",
      "__________________________________________________________________________________________________\n",
      "Layer (type)                    Output Shape         Param #     Connected to                     \n",
      "==================================================================================================\n",
      "input_2 (InputLayer)            (None, 64, 64, 1)    0                                            \n",
      "__________________________________________________________________________________________________\n",
      "conv2d_3 (Conv2D)               (None, 32, 32, 256)  12800       input_2[0][0]                    \n",
      "__________________________________________________________________________________________________\n",
      "max_pooling2d_2 (MaxPooling2D)  (None, 16, 16, 256)  0           conv2d_3[0][0]                   \n",
      "__________________________________________________________________________________________________\n",
      "conv2d_5 (Conv2D)               (None, 16, 16, 64)   147520      max_pooling2d_2[0][0]            \n",
      "__________________________________________________________________________________________________\n",
      "batch_normalization_2 (BatchNor (None, 16, 16, 64)   256         conv2d_5[0][0]                   \n",
      "__________________________________________________________________________________________________\n",
      "activation_2 (Activation)       (None, 16, 16, 64)   0           batch_normalization_2[0][0]      \n",
      "__________________________________________________________________________________________________\n",
      "conv2d_6 (Conv2D)               (None, 16, 16, 256)  16640       activation_2[0][0]               \n",
      "__________________________________________________________________________________________________\n",
      "add_1 (Add)                     (None, 16, 16, 256)  0           conv2d_6[0][0]                   \n",
      "                                                                 max_pooling2d_2[0][0]            \n",
      "__________________________________________________________________________________________________\n",
      "batch_normalization_3 (BatchNor (None, 16, 16, 256)  1024        add_1[0][0]                      \n",
      "__________________________________________________________________________________________________\n",
      "activation_3 (Activation)       (None, 16, 16, 256)  0           batch_normalization_3[0][0]      \n",
      "__________________________________________________________________________________________________\n",
      "conv2d_8 (Conv2D)               (None, 16, 16, 64)   147520      activation_3[0][0]               \n",
      "__________________________________________________________________________________________________\n",
      "batch_normalization_5 (BatchNor (None, 16, 16, 64)   256         conv2d_8[0][0]                   \n",
      "__________________________________________________________________________________________________\n",
      "activation_5 (Activation)       (None, 16, 16, 64)   0           batch_normalization_5[0][0]      \n",
      "__________________________________________________________________________________________________\n",
      "conv2d_9 (Conv2D)               (None, 16, 16, 256)  16640       activation_5[0][0]               \n",
      "__________________________________________________________________________________________________\n",
      "add_2 (Add)                     (None, 16, 16, 256)  0           conv2d_9[0][0]                   \n",
      "                                                                 activation_3[0][0]               \n",
      "__________________________________________________________________________________________________\n",
      "batch_normalization_6 (BatchNor (None, 16, 16, 256)  1024        add_2[0][0]                      \n",
      "__________________________________________________________________________________________________\n",
      "activation_6 (Activation)       (None, 16, 16, 256)  0           batch_normalization_6[0][0]      \n",
      "__________________________________________________________________________________________________\n",
      "conv2d_11 (Conv2D)              (None, 16, 16, 64)   147520      activation_6[0][0]               \n",
      "__________________________________________________________________________________________________\n",
      "batch_normalization_8 (BatchNor (None, 16, 16, 64)   256         conv2d_11[0][0]                  \n",
      "__________________________________________________________________________________________________\n",
      "activation_8 (Activation)       (None, 16, 16, 64)   0           batch_normalization_8[0][0]      \n",
      "__________________________________________________________________________________________________\n",
      "conv2d_12 (Conv2D)              (None, 16, 16, 256)  16640       activation_8[0][0]               \n",
      "__________________________________________________________________________________________________\n",
      "add_3 (Add)                     (None, 16, 16, 256)  0           conv2d_12[0][0]                  \n",
      "                                                                 activation_6[0][0]               \n",
      "__________________________________________________________________________________________________\n",
      "batch_normalization_9 (BatchNor (None, 16, 16, 256)  1024        add_3[0][0]                      \n",
      "__________________________________________________________________________________________________\n",
      "activation_9 (Activation)       (None, 16, 16, 256)  0           batch_normalization_9[0][0]      \n",
      "__________________________________________________________________________________________________\n",
      "max_pooling2d_3 (MaxPooling2D)  (None, 8, 8, 256)    0           activation_9[0][0]               \n",
      "__________________________________________________________________________________________________\n",
      "conv2d_13 (Conv2D)              (None, 8, 8, 512)    1180160     max_pooling2d_3[0][0]            \n",
      "__________________________________________________________________________________________________\n",
      "conv2d_15 (Conv2D)              (None, 8, 8, 128)    589952      conv2d_13[0][0]                  \n",
      "__________________________________________________________________________________________________\n",
      "batch_normalization_11 (BatchNo (None, 8, 8, 128)    512         conv2d_15[0][0]                  \n",
      "__________________________________________________________________________________________________\n",
      "activation_11 (Activation)      (None, 8, 8, 128)    0           batch_normalization_11[0][0]     \n",
      "__________________________________________________________________________________________________\n",
      "conv2d_16 (Conv2D)              (None, 8, 8, 512)    66048       activation_11[0][0]              \n",
      "__________________________________________________________________________________________________\n",
      "add_4 (Add)                     (None, 8, 8, 512)    0           conv2d_16[0][0]                  \n",
      "                                                                 conv2d_13[0][0]                  \n",
      "__________________________________________________________________________________________________\n",
      "batch_normalization_12 (BatchNo (None, 8, 8, 512)    2048        add_4[0][0]                      \n",
      "__________________________________________________________________________________________________\n",
      "activation_12 (Activation)      (None, 8, 8, 512)    0           batch_normalization_12[0][0]     \n",
      "__________________________________________________________________________________________________\n",
      "conv2d_18 (Conv2D)              (None, 8, 8, 128)    589952      activation_12[0][0]              \n",
      "__________________________________________________________________________________________________\n",
      "batch_normalization_14 (BatchNo (None, 8, 8, 128)    512         conv2d_18[0][0]                  \n",
      "__________________________________________________________________________________________________\n",
      "activation_14 (Activation)      (None, 8, 8, 128)    0           batch_normalization_14[0][0]     \n",
      "__________________________________________________________________________________________________\n",
      "conv2d_19 (Conv2D)              (None, 8, 8, 512)    66048       activation_14[0][0]              \n",
      "__________________________________________________________________________________________________\n",
      "add_5 (Add)                     (None, 8, 8, 512)    0           conv2d_19[0][0]                  \n",
      "                                                                 activation_12[0][0]              \n",
      "__________________________________________________________________________________________________\n",
      "batch_normalization_15 (BatchNo (None, 8, 8, 512)    2048        add_5[0][0]                      \n",
      "__________________________________________________________________________________________________\n",
      "activation_15 (Activation)      (None, 8, 8, 512)    0           batch_normalization_15[0][0]     \n",
      "__________________________________________________________________________________________________\n",
      "conv2d_21 (Conv2D)              (None, 8, 8, 128)    589952      activation_15[0][0]              \n",
      "__________________________________________________________________________________________________\n",
      "batch_normalization_17 (BatchNo (None, 8, 8, 128)    512         conv2d_21[0][0]                  \n",
      "__________________________________________________________________________________________________\n",
      "activation_17 (Activation)      (None, 8, 8, 128)    0           batch_normalization_17[0][0]     \n",
      "__________________________________________________________________________________________________\n",
      "conv2d_22 (Conv2D)              (None, 8, 8, 512)    66048       activation_17[0][0]              \n",
      "__________________________________________________________________________________________________\n",
      "add_6 (Add)                     (None, 8, 8, 512)    0           conv2d_22[0][0]                  \n",
      "                                                                 activation_15[0][0]              \n",
      "__________________________________________________________________________________________________\n",
      "batch_normalization_18 (BatchNo (None, 8, 8, 512)    2048        add_6[0][0]                      \n",
      "__________________________________________________________________________________________________\n",
      "activation_18 (Activation)      (None, 8, 8, 512)    0           batch_normalization_18[0][0]     \n",
      "__________________________________________________________________________________________________\n",
      "conv2d_24 (Conv2D)              (None, 8, 8, 128)    589952      activation_18[0][0]              \n",
      "__________________________________________________________________________________________________\n",
      "batch_normalization_20 (BatchNo (None, 8, 8, 128)    512         conv2d_24[0][0]                  \n",
      "__________________________________________________________________________________________________\n",
      "activation_20 (Activation)      (None, 8, 8, 128)    0           batch_normalization_20[0][0]     \n",
      "__________________________________________________________________________________________________\n",
      "conv2d_25 (Conv2D)              (None, 8, 8, 512)    66048       activation_20[0][0]              \n",
      "__________________________________________________________________________________________________\n",
      "add_7 (Add)                     (None, 8, 8, 512)    0           conv2d_25[0][0]                  \n",
      "                                                                 activation_18[0][0]              \n",
      "__________________________________________________________________________________________________\n",
      "batch_normalization_21 (BatchNo (None, 8, 8, 512)    2048        add_7[0][0]                      \n",
      "__________________________________________________________________________________________________\n",
      "activation_21 (Activation)      (None, 8, 8, 512)    0           batch_normalization_21[0][0]     \n",
      "__________________________________________________________________________________________________\n",
      "max_pooling2d_4 (MaxPooling2D)  (None, 4, 4, 512)    0           activation_21[0][0]              \n",
      "__________________________________________________________________________________________________\n",
      "conv2d_26 (Conv2D)              (None, 4, 4, 1024)   4719616     max_pooling2d_4[0][0]            \n",
      "__________________________________________________________________________________________________\n",
      "conv2d_28 (Conv2D)              (None, 4, 4, 256)    2359552     conv2d_26[0][0]                  \n",
      "__________________________________________________________________________________________________\n",
      "batch_normalization_23 (BatchNo (None, 4, 4, 256)    1024        conv2d_28[0][0]                  \n",
      "__________________________________________________________________________________________________\n",
      "activation_23 (Activation)      (None, 4, 4, 256)    0           batch_normalization_23[0][0]     \n",
      "__________________________________________________________________________________________________\n",
      "conv2d_29 (Conv2D)              (None, 4, 4, 1024)   263168      activation_23[0][0]              \n",
      "__________________________________________________________________________________________________\n",
      "add_8 (Add)                     (None, 4, 4, 1024)   0           conv2d_29[0][0]                  \n",
      "                                                                 conv2d_26[0][0]                  \n",
      "__________________________________________________________________________________________________\n",
      "batch_normalization_24 (BatchNo (None, 4, 4, 1024)   4096        add_8[0][0]                      \n",
      "__________________________________________________________________________________________________\n",
      "activation_24 (Activation)      (None, 4, 4, 1024)   0           batch_normalization_24[0][0]     \n",
      "__________________________________________________________________________________________________\n",
      "conv2d_31 (Conv2D)              (None, 4, 4, 256)    2359552     activation_24[0][0]              \n",
      "__________________________________________________________________________________________________\n",
      "batch_normalization_26 (BatchNo (None, 4, 4, 256)    1024        conv2d_31[0][0]                  \n",
      "__________________________________________________________________________________________________\n",
      "activation_26 (Activation)      (None, 4, 4, 256)    0           batch_normalization_26[0][0]     \n",
      "__________________________________________________________________________________________________\n",
      "conv2d_32 (Conv2D)              (None, 4, 4, 1024)   263168      activation_26[0][0]              \n",
      "__________________________________________________________________________________________________\n",
      "add_9 (Add)                     (None, 4, 4, 1024)   0           conv2d_32[0][0]                  \n",
      "                                                                 activation_24[0][0]              \n",
      "__________________________________________________________________________________________________\n",
      "batch_normalization_27 (BatchNo (None, 4, 4, 1024)   4096        add_9[0][0]                      \n",
      "__________________________________________________________________________________________________\n",
      "activation_27 (Activation)      (None, 4, 4, 1024)   0           batch_normalization_27[0][0]     \n",
      "__________________________________________________________________________________________________\n",
      "conv2d_34 (Conv2D)              (None, 4, 4, 256)    2359552     activation_27[0][0]              \n",
      "__________________________________________________________________________________________________\n",
      "batch_normalization_29 (BatchNo (None, 4, 4, 256)    1024        conv2d_34[0][0]                  \n",
      "__________________________________________________________________________________________________\n",
      "activation_29 (Activation)      (None, 4, 4, 256)    0           batch_normalization_29[0][0]     \n",
      "__________________________________________________________________________________________________\n",
      "conv2d_35 (Conv2D)              (None, 4, 4, 1024)   263168      activation_29[0][0]              \n",
      "__________________________________________________________________________________________________\n",
      "add_10 (Add)                    (None, 4, 4, 1024)   0           conv2d_35[0][0]                  \n",
      "                                                                 activation_27[0][0]              \n",
      "__________________________________________________________________________________________________\n",
      "batch_normalization_30 (BatchNo (None, 4, 4, 1024)   4096        add_10[0][0]                     \n",
      "__________________________________________________________________________________________________\n",
      "activation_30 (Activation)      (None, 4, 4, 1024)   0           batch_normalization_30[0][0]     \n",
      "__________________________________________________________________________________________________\n",
      "conv2d_37 (Conv2D)              (None, 4, 4, 256)    2359552     activation_30[0][0]              \n",
      "__________________________________________________________________________________________________\n",
      "batch_normalization_32 (BatchNo (None, 4, 4, 256)    1024        conv2d_37[0][0]                  \n",
      "__________________________________________________________________________________________________\n",
      "activation_32 (Activation)      (None, 4, 4, 256)    0           batch_normalization_32[0][0]     \n",
      "__________________________________________________________________________________________________\n",
      "conv2d_38 (Conv2D)              (None, 4, 4, 1024)   263168      activation_32[0][0]              \n",
      "__________________________________________________________________________________________________\n",
      "add_11 (Add)                    (None, 4, 4, 1024)   0           conv2d_38[0][0]                  \n",
      "                                                                 activation_30[0][0]              \n",
      "__________________________________________________________________________________________________\n",
      "batch_normalization_33 (BatchNo (None, 4, 4, 1024)   4096        add_11[0][0]                     \n",
      "__________________________________________________________________________________________________\n",
      "activation_33 (Activation)      (None, 4, 4, 1024)   0           batch_normalization_33[0][0]     \n",
      "__________________________________________________________________________________________________\n",
      "max_pooling2d_5 (MaxPooling2D)  (None, 2, 2, 1024)   0           activation_33[0][0]              \n",
      "__________________________________________________________________________________________________\n",
      "conv2d_39 (Conv2D)              (None, 2, 2, 2048)   18876416    max_pooling2d_5[0][0]            \n",
      "__________________________________________________________________________________________________\n",
      "conv2d_41 (Conv2D)              (None, 2, 2, 512)    9437696     conv2d_39[0][0]                  \n",
      "__________________________________________________________________________________________________\n",
      "batch_normalization_35 (BatchNo (None, 2, 2, 512)    2048        conv2d_41[0][0]                  \n",
      "__________________________________________________________________________________________________\n",
      "activation_35 (Activation)      (None, 2, 2, 512)    0           batch_normalization_35[0][0]     \n",
      "__________________________________________________________________________________________________\n",
      "conv2d_42 (Conv2D)              (None, 2, 2, 2048)   1050624     activation_35[0][0]              \n",
      "__________________________________________________________________________________________________\n",
      "add_12 (Add)                    (None, 2, 2, 2048)   0           conv2d_42[0][0]                  \n",
      "                                                                 conv2d_39[0][0]                  \n",
      "__________________________________________________________________________________________________\n",
      "batch_normalization_36 (BatchNo (None, 2, 2, 2048)   8192        add_12[0][0]                     \n",
      "__________________________________________________________________________________________________\n",
      "activation_36 (Activation)      (None, 2, 2, 2048)   0           batch_normalization_36[0][0]     \n",
      "__________________________________________________________________________________________________\n",
      "conv2d_44 (Conv2D)              (None, 2, 2, 512)    9437696     activation_36[0][0]              \n",
      "__________________________________________________________________________________________________\n",
      "batch_normalization_38 (BatchNo (None, 2, 2, 512)    2048        conv2d_44[0][0]                  \n",
      "__________________________________________________________________________________________________\n",
      "activation_38 (Activation)      (None, 2, 2, 512)    0           batch_normalization_38[0][0]     \n",
      "__________________________________________________________________________________________________\n",
      "conv2d_45 (Conv2D)              (None, 2, 2, 2048)   1050624     activation_38[0][0]              \n",
      "__________________________________________________________________________________________________\n",
      "add_13 (Add)                    (None, 2, 2, 2048)   0           conv2d_45[0][0]                  \n",
      "                                                                 activation_36[0][0]              \n",
      "__________________________________________________________________________________________________\n",
      "batch_normalization_39 (BatchNo (None, 2, 2, 2048)   8192        add_13[0][0]                     \n",
      "__________________________________________________________________________________________________\n",
      "activation_39 (Activation)      (None, 2, 2, 2048)   0           batch_normalization_39[0][0]     \n",
      "__________________________________________________________________________________________________\n",
      "conv2d_47 (Conv2D)              (None, 2, 2, 512)    9437696     activation_39[0][0]              \n",
      "__________________________________________________________________________________________________\n",
      "batch_normalization_41 (BatchNo (None, 2, 2, 512)    2048        conv2d_47[0][0]                  \n",
      "__________________________________________________________________________________________________\n",
      "activation_41 (Activation)      (None, 2, 2, 512)    0           batch_normalization_41[0][0]     \n",
      "__________________________________________________________________________________________________\n",
      "conv2d_48 (Conv2D)              (None, 2, 2, 2048)   1050624     activation_41[0][0]              \n",
      "__________________________________________________________________________________________________\n",
      "add_14 (Add)                    (None, 2, 2, 2048)   0           conv2d_48[0][0]                  \n",
      "                                                                 activation_39[0][0]              \n",
      "__________________________________________________________________________________________________\n",
      "batch_normalization_42 (BatchNo (None, 2, 2, 2048)   8192        add_14[0][0]                     \n",
      "__________________________________________________________________________________________________\n",
      "activation_42 (Activation)      (None, 2, 2, 2048)   0           batch_normalization_42[0][0]     \n",
      "__________________________________________________________________________________________________\n",
      "average_pooling2d_1 (AveragePoo (None, 1, 1, 2048)   0           activation_42[0][0]              \n",
      "__________________________________________________________________________________________________\n",
      "flatten_1 (Flatten)             (None, 2048)         0           average_pooling2d_1[0][0]        \n",
      "__________________________________________________________________________________________________\n",
      "dropout_1 (Dropout)             (None, 2048)         0           flatten_1[0][0]                  \n",
      "__________________________________________________________________________________________________\n",
      "dense_1 (Dense)                 (None, 121)          247929      dropout_1[0][0]                  \n",
      "==================================================================================================\n",
      "Total params: 70,174,521\n",
      "Trainable params: 70,141,881\n",
      "Non-trainable params: 32,640\n",
      "__________________________________________________________________________________________________\n"
     ]
    }
   ],
   "source": [
    "model = resnet50((64,64,1))\n",
    "model.summary()"
   ]
  },
  {
   "cell_type": "code",
   "execution_count": 0,
   "metadata": {
    "colab": {},
    "colab_type": "code",
    "id": "567hTSOjiDbq"
   },
   "outputs": [],
   "source": []
  },
  {
   "cell_type": "code",
   "execution_count": 0,
   "metadata": {
    "colab": {},
    "colab_type": "code",
    "id": "FO_B5wMxUZTV"
   },
   "outputs": [],
   "source": [
    "# print the network structure to a PDF file\n",
    "\n",
    "# from IPython.display import SVG\n",
    "# from keras.utils.vis_utils import model_to_dot, plot_model\n",
    "\n",
    "# SVG(model_to_dot(model, show_shapes=False).create(prog='dot', format='svg'))\n",
    "\n",
    "# plot_model(\n",
    "#     model=model, show_shapes=False,\n",
    "#     to_file='resnet.jpg'\n",
    "# )"
   ]
  },
  {
   "cell_type": "code",
   "execution_count": 0,
   "metadata": {
    "colab": {
     "base_uri": "https://localhost:8080/",
     "height": 110
    },
    "colab_type": "code",
    "id": "ht2pjtU6_EXw",
    "outputId": "6b6613ab-c97c-4b6f-fad8-b26ab3553366"
   },
   "outputs": [
    {
     "name": "stdout",
     "output_type": "stream",
     "text": [
      "WARNING:tensorflow:From /usr/local/lib/python3.6/dist-packages/keras/optimizers.py:793: The name tf.train.Optimizer is deprecated. Please use tf.compat.v1.train.Optimizer instead.\n",
      "\n",
      "WARNING:tensorflow:From /usr/local/lib/python3.6/dist-packages/keras/backend/tensorflow_backend.py:3576: The name tf.log is deprecated. Please use tf.math.log instead.\n",
      "\n"
     ]
    }
   ],
   "source": [
    "model.compile(loss='categorical_crossentropy',optimizer=RMSprop(lr=1e-3),metrics=['acc','top_k_categorical_accuracy'])"
   ]
  },
  {
   "cell_type": "code",
   "execution_count": 0,
   "metadata": {
    "colab": {
     "base_uri": "https://localhost:8080/",
     "height": 910
    },
    "colab_type": "code",
    "id": "RbLiIkkVRQkd",
    "outputId": "b8d08fb3-4b1c-4300-883c-3abd26d3ec11"
   },
   "outputs": [
    {
     "name": "stdout",
     "output_type": "stream",
     "text": [
      "WARNING:tensorflow:From /usr/local/lib/python3.6/dist-packages/tensorflow_core/python/ops/math_grad.py:1424: where (from tensorflow.python.ops.array_ops) is deprecated and will be removed in a future version.\n",
      "Instructions for updating:\n",
      "Use tf.where in 2.0, which has the same broadcast rule as np.where\n",
      "WARNING:tensorflow:From /usr/local/lib/python3.6/dist-packages/keras/backend/tensorflow_backend.py:1033: The name tf.assign_add is deprecated. Please use tf.compat.v1.assign_add instead.\n",
      "\n",
      "WARNING:tensorflow:From /usr/local/lib/python3.6/dist-packages/keras/backend/tensorflow_backend.py:1020: The name tf.assign is deprecated. Please use tf.compat.v1.assign instead.\n",
      "\n",
      "Train on 24268 samples, validate on 6068 samples\n",
      "Epoch 1/20\n",
      "24268/24268 [==============================] - 126s 5ms/step - loss: 4.9552 - acc: 0.0419 - top_k_categorical_accuracy: 0.1713 - val_loss: 4.7711 - val_acc: 0.0603 - val_top_k_categorical_accuracy: 0.1040\n",
      "Epoch 2/20\n",
      "24268/24268 [==============================] - 105s 4ms/step - loss: 4.5510 - acc: 0.0450 - top_k_categorical_accuracy: 0.1759 - val_loss: 4.6706 - val_acc: 0.0603 - val_top_k_categorical_accuracy: 0.1432\n",
      "Epoch 3/20\n",
      "24268/24268 [==============================] - 105s 4ms/step - loss: 4.4993 - acc: 0.0466 - top_k_categorical_accuracy: 0.1826 - val_loss: 4.6856 - val_acc: 0.0326 - val_top_k_categorical_accuracy: 0.0916\n",
      "Epoch 4/20\n",
      "24268/24268 [==============================] - 106s 4ms/step - loss: 4.4580 - acc: 0.0489 - top_k_categorical_accuracy: 0.1877 - val_loss: 4.6063 - val_acc: 0.0218 - val_top_k_categorical_accuracy: 0.1030\n",
      "Epoch 5/20\n",
      "24268/24268 [==============================] - 106s 4ms/step - loss: 4.4199 - acc: 0.0488 - top_k_categorical_accuracy: 0.1948 - val_loss: 4.5534 - val_acc: 0.0308 - val_top_k_categorical_accuracy: 0.1172\n",
      "Epoch 6/20\n",
      "24268/24268 [==============================] - 106s 4ms/step - loss: 4.3528 - acc: 0.0557 - top_k_categorical_accuracy: 0.2039 - val_loss: 4.3610 - val_acc: 0.0315 - val_top_k_categorical_accuracy: 0.1898\n",
      "Epoch 7/20\n",
      "24268/24268 [==============================] - 106s 4ms/step - loss: 4.3098 - acc: 0.0576 - top_k_categorical_accuracy: 0.2131 - val_loss: 10.7869 - val_acc: 0.0315 - val_top_k_categorical_accuracy: 0.1989\n",
      "Epoch 8/20\n",
      "24268/24268 [==============================] - 106s 4ms/step - loss: 4.2771 - acc: 0.0564 - top_k_categorical_accuracy: 0.2146 - val_loss: 4.3269 - val_acc: 0.0326 - val_top_k_categorical_accuracy: 0.2083\n",
      "Epoch 9/20\n",
      "24268/24268 [==============================] - 105s 4ms/step - loss: 4.2518 - acc: 0.0624 - top_k_categorical_accuracy: 0.2242 - val_loss: 4.3077 - val_acc: 0.0603 - val_top_k_categorical_accuracy: 0.2343\n",
      "Epoch 10/20\n",
      "24268/24268 [==============================] - 106s 4ms/step - loss: 4.2341 - acc: 0.0630 - top_k_categorical_accuracy: 0.2241 - val_loss: 4.2646 - val_acc: 0.0603 - val_top_k_categorical_accuracy: 0.2175\n",
      "Epoch 11/20\n",
      "24268/24268 [==============================] - 106s 4ms/step - loss: 4.2208 - acc: 0.0637 - top_k_categorical_accuracy: 0.2289 - val_loss: 4.2613 - val_acc: 0.0687 - val_top_k_categorical_accuracy: 0.2362\n",
      "Epoch 12/20\n",
      "24268/24268 [==============================] - 105s 4ms/step - loss: 4.2099 - acc: 0.0645 - top_k_categorical_accuracy: 0.2315 - val_loss: 4.4356 - val_acc: 0.0687 - val_top_k_categorical_accuracy: 0.2297\n",
      "Epoch 13/20\n",
      "24268/24268 [==============================] - 106s 4ms/step - loss: 4.2074 - acc: 0.0649 - top_k_categorical_accuracy: 0.2329 - val_loss: 4.2109 - val_acc: 0.0603 - val_top_k_categorical_accuracy: 0.2362\n",
      "Epoch 14/20\n",
      "24268/24268 [==============================] - 105s 4ms/step - loss: 4.2027 - acc: 0.0634 - top_k_categorical_accuracy: 0.2338 - val_loss: 4.2065 - val_acc: 0.0687 - val_top_k_categorical_accuracy: 0.2362\n",
      "Epoch 15/20\n",
      "24268/24268 [==============================] - 105s 4ms/step - loss: 4.1969 - acc: 0.0640 - top_k_categorical_accuracy: 0.2347 - val_loss: 4.2068 - val_acc: 0.0603 - val_top_k_categorical_accuracy: 0.2368\n",
      "Epoch 16/20\n",
      "24268/24268 [==============================] - 106s 4ms/step - loss: 4.1932 - acc: 0.0648 - top_k_categorical_accuracy: 0.2346 - val_loss: 4.2335 - val_acc: 0.0603 - val_top_k_categorical_accuracy: 0.2271\n",
      "Epoch 17/20\n",
      "24268/24268 [==============================] - 106s 4ms/step - loss: 4.1923 - acc: 0.0658 - top_k_categorical_accuracy: 0.2344 - val_loss: 4.1999 - val_acc: 0.0687 - val_top_k_categorical_accuracy: 0.2362\n",
      "Epoch 18/20\n",
      "24268/24268 [==============================] - 106s 4ms/step - loss: 4.1903 - acc: 0.0655 - top_k_categorical_accuracy: 0.2364 - val_loss: 4.3391 - val_acc: 0.0603 - val_top_k_categorical_accuracy: 0.2368\n",
      "Epoch 19/20\n",
      "24268/24268 [==============================] - 106s 4ms/step - loss: 4.1864 - acc: 0.0653 - top_k_categorical_accuracy: 0.2343 - val_loss: 4.2588 - val_acc: 0.0603 - val_top_k_categorical_accuracy: 0.2368\n",
      "Epoch 20/20\n",
      "24268/24268 [==============================] - 106s 4ms/step - loss: 4.1854 - acc: 0.0637 - top_k_categorical_accuracy: 0.2352 - val_loss: 4.2139 - val_acc: 0.0603 - val_top_k_categorical_accuracy: 0.2297\n"
     ]
    }
   ],
   "source": [
    "epochs = 20\n",
    "history = model.fit(x_train,y_train,batch_size=128,epochs=epochs, validation_data=[x_valid, y_valid])"
   ]
  },
  {
   "cell_type": "code",
   "execution_count": 0,
   "metadata": {
    "colab": {},
    "colab_type": "code",
    "id": "9GzTJmhcm2xZ"
   },
   "outputs": [],
   "source": [
    "model.save('my_model_1.h5')"
   ]
  },
  {
   "cell_type": "code",
   "execution_count": 0,
   "metadata": {
    "colab": {},
    "colab_type": "code",
    "id": "fQHupICDivx9"
   },
   "outputs": [],
   "source": [
    "a = model.predict(x_valid)\n",
    "b = y_valid\n",
    "# a,b"
   ]
  },
  {
   "cell_type": "code",
   "execution_count": 0,
   "metadata": {
    "colab": {
     "base_uri": "https://localhost:8080/",
     "height": 35
    },
    "colab_type": "code",
    "id": "9sqqSUktiucy",
    "outputId": "4b805fcf-8632-4e3c-f88e-763de8543579"
   },
   "outputs": [
    {
     "data": {
      "text/plain": [
       "4.204441138451714"
      ]
     },
     "execution_count": 65,
     "metadata": {
      "tags": []
     },
     "output_type": "execute_result"
    }
   ],
   "source": [
    "logloss(a,b)"
   ]
  },
  {
   "cell_type": "code",
   "execution_count": 0,
   "metadata": {
    "colab": {
     "base_uri": "https://localhost:8080/",
     "height": 297
    },
    "colab_type": "code",
    "id": "chViCB8mZjL0",
    "outputId": "810151fd-dd45-4de6-8091-693e3d81e0ef"
   },
   "outputs": [
    {
     "data": {
      "image/png": "[encoded data removed]",
      "text/plain": [
       "<Figure size 432x288 with 1 Axes>"
      ]
     },
     "metadata": {
      "tags": []
     },
     "output_type": "display_data"
    }
   ],
   "source": [
    "hist_train_loss = history.history['top_k_categorical_accuracy']\n",
    "hist_vaild_loss = history.history['val_top_k_categorical_accuracy']\n",
    "import matplotlib.pyplot as plt\n",
    "%matplotlib inline\n",
    "fig = plt.figure(figsize=(6, 4))\n",
    "epochs_loss = history.epoch\n",
    "\n",
    "line0, = plt.plot(hist_train_loss, '-r', LineWidth=2)\n",
    "line1, = plt.plot(hist_vaild_loss,'ob', LineWidth=4)\n",
    "\n",
    "plt.xlabel('Epochs', FontSize=13)\n",
    "plt.ylabel('Acc', FontSize=13)\n",
    "plt.xticks(FontSize=10)\n",
    "plt.yticks(FontSize=10)\n",
    "plt.legend([line0, line1], ['Training Acc','Vaildation Acc'], fontsize=13)\n",
    "plt.tight_layout()\n",
    "plt.show()"
   ]
  },
  {
   "cell_type": "code",
   "execution_count": 0,
   "metadata": {
    "colab": {
     "base_uri": "https://localhost:8080/",
     "height": 297
    },
    "colab_type": "code",
    "id": "vvQSsHxPizJB",
    "outputId": "de7d4aaa-12e5-4a5c-ccd2-d54f562ec9ee"
   },
   "outputs": [
    {
     "data": {
      "image/png": "[encoded data removed]",
      "text/plain": [
       "<Figure size 432x288 with 1 Axes>"
      ]
     },
     "metadata": {
      "tags": []
     },
     "output_type": "display_data"
    }
   ],
   "source": [
    "hist_train_loss = history.history['loss']\n",
    "hist_vaild_loss = history.history['val_loss']\n",
    "import matplotlib.pyplot as plt\n",
    "%matplotlib inline\n",
    "fig = plt.figure(figsize=(6, 4))\n",
    "epochs_loss = history.epoch\n",
    "\n",
    "line0, = plt.plot(hist_train_loss, '-r', LineWidth=2)\n",
    "line1, = plt.plot(hist_vaild_loss,'ob', LineWidth=4)\n",
    "\n",
    "plt.xlabel('Epochs', FontSize=13)\n",
    "plt.ylabel('Loss', FontSize=13)\n",
    "plt.xticks(FontSize=10)\n",
    "plt.yticks(FontSize=10)\n",
    "plt.legend([line0, line1], ['Training loss','Vaildation loss'], fontsize=13)\n",
    "plt.tight_layout()\n",
    "plt.show()"
   ]
  },
  {
   "cell_type": "markdown",
   "metadata": {
    "colab_type": "text",
    "id": "eRpvMoAFixSn"
   },
   "source": [
    "### random guess"
   ]
  },
  {
   "cell_type": "code",
   "execution_count": 0,
   "metadata": {
    "colab": {},
    "colab_type": "code",
    "id": "jVa8-xz4kSZ4"
   },
   "outputs": [],
   "source": [
    "y_valid.shape\n",
    "y_rand=[]\n",
    "for i in range(y_valid.shape[0]):\n",
    "  rand = np.random.randint(y_valid.shape[1])\n",
    "  y = to_categorical(rand, num_classes=121)\n",
    "  y_rand.append(y)\n",
    "y_rand = np.asarray(y_rand)"
   ]
  },
  {
   "cell_type": "code",
   "execution_count": 0,
   "metadata": {
    "colab": {},
    "colab_type": "code",
    "id": "18zGSEEE82Rg"
   },
   "outputs": [],
   "source": [
    "y_zeros = np.zeros_like(y_onehot)"
   ]
  },
  {
   "cell_type": "code",
   "execution_count": 0,
   "metadata": {
    "colab": {
     "base_uri": "https://localhost:8080/",
     "height": 35
    },
    "colab_type": "code",
    "id": "fTq56jkUlAhD",
    "outputId": "3601025e-2c3a-4ff7-c7e9-9fafd66bf376"
   },
   "outputs": [
    {
     "data": {
      "text/plain": [
       "34.237104482531315"
      ]
     },
     "execution_count": 65,
     "metadata": {
      "tags": []
     },
     "output_type": "execute_result"
    }
   ],
   "source": [
    "logloss(y_rand,y_valid)"
   ]
  },
  {
   "cell_type": "markdown",
   "metadata": {
    "colab_type": "text",
    "id": "Odb2pbM0n4Yj"
   },
   "source": [
    "### test"
   ]
  },
  {
   "cell_type": "code",
   "execution_count": 0,
   "metadata": {
    "colab": {},
    "colab_type": "code",
    "id": "nsZ2s8rCoS5M"
   },
   "outputs": [],
   "source": [
    "testfilename = '/content/test'\n",
    "x_test_row=[]\n",
    "name_test=[]\n",
    "num_img_test = 0\n",
    "\n",
    "for imagename in os.listdir(testfilename):\n",
    "  imagepath = os.path.join(testfilename,imagename)\n",
    "  im = imread(imagepath)\n",
    "  img = 255 - im\n",
    "  x_test_row.append(img)\n",
    "  name_test.append(imagename)\n",
    "  num_img_test += 1\n",
    "\n",
    "# num_img_test"
   ]
  },
  {
   "cell_type": "code",
   "execution_count": 0,
   "metadata": {
    "colab": {
     "base_uri": "https://localhost:8080/"
    },
    "colab_type": "code",
    "id": "6wYHwaxQpBAZ",
    "outputId": "69a4d6da-bbd6-48d6-d8a1-e4053d4f825c"
   },
   "outputs": [
    {
     "data": {
      "text/plain": [
       "130400"
      ]
     },
     "execution_count": 12,
     "metadata": {
      "tags": []
     },
     "output_type": "execute_result"
    }
   ],
   "source": [
    "len(x_test_row)"
   ]
  },
  {
   "cell_type": "code",
   "execution_count": 0,
   "metadata": {
    "colab": {},
    "colab_type": "code",
    "id": "SMvou76hqF2d"
   },
   "outputs": [],
   "source": [
    "x_test_aug = [imgAugment(i) for i in x_test_row]"
   ]
  },
  {
   "cell_type": "code",
   "execution_count": 0,
   "metadata": {
    "colab": {},
    "colab_type": "code",
    "id": "VqydN1gTq1ce"
   },
   "outputs": [],
   "source": [
    "maxlength = 64\n",
    "features = maxlength **2\n",
    "x_test_resize = []\n",
    "for img in x_test_aug:\n",
    "  imgresize = resize(img,(maxlength,maxlength))\n",
    "  x_test_resize.append(imgresize)"
   ]
  },
  {
   "cell_type": "code",
   "execution_count": 0,
   "metadata": {
    "colab": {},
    "colab_type": "code",
    "id": "YbL0TdlbrEhc"
   },
   "outputs": [],
   "source": [
    "x_test_resize = np.asarray(x_test_resize)"
   ]
  },
  {
   "cell_type": "code",
   "execution_count": 0,
   "metadata": {
    "colab": {},
    "colab_type": "code",
    "id": "MAWGPMBHubfM"
   },
   "outputs": [],
   "source": [
    "x_test_resize = x_test_resize.reshape((x_test_resize.shape[0],64,64,1))"
   ]
  },
  {
   "cell_type": "code",
   "execution_count": 0,
   "metadata": {
    "colab": {
     "base_uri": "https://localhost:8080/"
    },
    "colab_type": "code",
    "id": "4Ne5gxZ1vM2K",
    "outputId": "34ace66b-5d91-4fed-dad2-164a3e724307"
   },
   "outputs": [
    {
     "data": {
      "text/plain": [
       "(130400, 64, 64, 1)"
      ]
     },
     "execution_count": 20,
     "metadata": {
      "tags": []
     },
     "output_type": "execute_result"
    }
   ],
   "source": [
    "x_test_resize.shape"
   ]
  },
  {
   "cell_type": "code",
   "execution_count": 0,
   "metadata": {
    "colab": {},
    "colab_type": "code",
    "id": "3p6p2w0ZskAP"
   },
   "outputs": [],
   "source": [
    "from keras.models import load_model\n",
    "load_model =load_model('/content/my_model.h5')\n",
    "pred = load_model.predict(x_test_resize)"
   ]
  },
  {
   "cell_type": "code",
   "execution_count": 0,
   "metadata": {
    "colab": {},
    "colab_type": "code",
    "id": "TvWas6KiwoBE"
   },
   "outputs": [],
   "source": [
    "name_test_arr= np.asarray(name_test).reshape(130400,1)"
   ]
  },
  {
   "cell_type": "code",
   "execution_count": 0,
   "metadata": {
    "colab": {},
    "colab_type": "code",
    "id": "sV2U2Bhjur80"
   },
   "outputs": [],
   "source": [
    "out = np.hstack((name_test_arr,pred))"
   ]
  },
  {
   "cell_type": "code",
   "execution_count": 0,
   "metadata": {
    "colab": {},
    "colab_type": "code",
    "id": "N72w7v0yw7B-"
   },
   "outputs": [],
   "source": [
    "import pandas as pd"
   ]
  },
  {
   "cell_type": "code",
   "execution_count": 0,
   "metadata": {
    "colab": {
     "base_uri": "https://localhost:8080/"
    },
    "colab_type": "code",
    "id": "K5JSWcMlw643",
    "outputId": "0e59f702-3d39-47bb-d385-49b1c670147b"
   },
   "outputs": [
    {
     "name": "stdout",
     "output_type": "stream",
     "text": [
      "               0             1    ...          120          121\n",
      "0       142198.jpg  0.0030333314  ...  0.008953333  0.012297922\n",
      "1        56023.jpg  0.0030333314  ...  0.008953333  0.012297922\n",
      "2        89506.jpg  0.0030333314  ...  0.008953333  0.012297922\n",
      "3        28955.jpg  0.0030333314  ...  0.008953333  0.012297922\n",
      "4       155652.jpg  0.0030333314  ...  0.008953333  0.012297922\n",
      "...            ...           ...  ...          ...          ...\n",
      "130395   29834.jpg  0.0030333314  ...  0.008953333  0.012297922\n",
      "130396  112844.jpg  0.0030333314  ...  0.008953333  0.012297922\n",
      "130397   83394.jpg  0.0030333314  ...  0.008953333  0.012297922\n",
      "130398  159728.jpg  0.0030333314  ...  0.008953333  0.012297922\n",
      "130399   81601.jpg  0.0030333314  ...  0.008953333  0.012297922\n",
      "\n",
      "[130400 rows x 122 columns]\n"
     ]
    }
   ],
   "source": [
    "out_pd = pd.DataFrame(out)\n",
    "print(out_pd)\n",
    "# pd_data.to_csv('pd_data.csv')"
   ]
  },
  {
   "cell_type": "code",
   "execution_count": 0,
   "metadata": {
    "colab": {},
    "colab_type": "code",
    "id": "5IaLHF682MNy"
   },
   "outputs": [],
   "source": [
    "out_pd.to_csv('pd_data.csv')"
   ]
  },
  {
   "cell_type": "code",
   "execution_count": 0,
   "metadata": {
    "colab": {},
    "colab_type": "code",
    "id": "NT45rvVA5N_D"
   },
   "outputs": [],
   "source": [
    "!cp '/content/pd_data.csv' '/content/drive/My Drive/CS583/'"
   ]
  }
 ],
 "metadata": {
  "accelerator": "GPU",
  "colab": {
   "collapsed_sections": [
    "KT28k19e7Yah",
    "pd7SEHvI7Slm"
   ],
   "name": "CS583 CourseProject.ipynb",
   "provenance": [],
   "toc_visible": true
  },
  "kernelspec": {
   "display_name": "Python 3",
   "language": "python",
   "name": "python3"
  },
  "language_info": {
   "codemirror_mode": {
    "name": "ipython",
    "version": 3
   },
   "file_extension": ".py",
   "mimetype": "text/x-python",
   "name": "python",
   "nbconvert_exporter": "python",
   "pygments_lexer": "ipython3",
   "version": "3.6.4"
  }
 },
 "nbformat": 4,
 "nbformat_minor": 1
}
